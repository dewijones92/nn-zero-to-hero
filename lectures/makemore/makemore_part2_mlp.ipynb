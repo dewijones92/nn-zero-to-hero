{
 "cells": [
  {
   "cell_type": "code",
   "execution_count": 1,
   "metadata": {},
   "outputs": [],
   "source": [
    "import torch\n",
    "import torch.nn.functional as F\n",
    "import matplotlib.pyplot as plt # for making figures\n",
    "%matplotlib inline"
   ]
  },
  {
   "cell_type": "code",
   "execution_count": 2,
   "metadata": {},
   "outputs": [
    {
     "data": {
      "text/plain": [
       "['emma', 'olivia', 'ava', 'isabella', 'sophia', 'charlotte', 'mia', 'amelia']"
      ]
     },
     "execution_count": 2,
     "metadata": {},
     "output_type": "execute_result"
    }
   ],
   "source": [
    "# read in all the words\n",
    "words = open('names.txt', 'r').read().splitlines()\n",
    "words[:8]"
   ]
  },
  {
   "cell_type": "code",
   "execution_count": 3,
   "metadata": {},
   "outputs": [
    {
     "data": {
      "text/plain": [
       "32033"
      ]
     },
     "execution_count": 3,
     "metadata": {},
     "output_type": "execute_result"
    }
   ],
   "source": [
    "len(words)"
   ]
  },
  {
   "cell_type": "code",
   "execution_count": 4,
   "metadata": {},
   "outputs": [
    {
     "name": "stdout",
     "output_type": "stream",
     "text": [
      "{1: 'a', 2: 'b', 3: 'c', 4: 'd', 5: 'e', 6: 'f', 7: 'g', 8: 'h', 9: 'i', 10: 'j', 11: 'k', 12: 'l', 13: 'm', 14: 'n', 15: 'o', 16: 'p', 17: 'q', 18: 'r', 19: 's', 20: 't', 21: 'u', 22: 'v', 23: 'w', 24: 'x', 25: 'y', 26: 'z', 0: '.'}\n"
     ]
    }
   ],
   "source": [
    "# build the vocabulary of characters and mappings to/from integers\n",
    "chars = sorted(list(set(''.join(words))))\n",
    "stoi = {s:i+1 for i,s in enumerate(chars)}\n",
    "stoi['.'] = 0\n",
    "itos = {i:s for s,i in stoi.items()}\n",
    "vocab_size = len(itos)\n",
    "print(itos)"
   ]
  },
  {
   "cell_type": "code",
   "execution_count": 5,
   "metadata": {},
   "outputs": [
    {
     "name": "stdout",
     "output_type": "stream",
     "text": [
      "torch.Size([182625, 3]) torch.Size([182625])\n",
      "torch.Size([22655, 3]) torch.Size([22655])\n",
      "torch.Size([22866, 3]) torch.Size([22866])\n"
     ]
    }
   ],
   "source": [
    "# build the dataset\n",
    "block_size = 3 # context length: how many characters do we take to predict the next one?\n",
    "\n",
    "def build_dataset(words):\n",
    "    X, Y = [], []\n",
    "    \n",
    "    for w in words:\n",
    "        context = [0] * block_size\n",
    "        for ch in w + '.':\n",
    "            ix = stoi[ch]\n",
    "            X.append(context)\n",
    "            Y.append(ix)\n",
    "            context = context[1:] + [ix] # crop and append\n",
    "    \n",
    "    X = torch.tensor(X)\n",
    "    Y = torch.tensor(Y)\n",
    "    print(X.shape, Y.shape)\n",
    "    return X, Y\n",
    "\n",
    "import random\n",
    "random.seed(42)\n",
    "random.shuffle(words)\n",
    "n1 = int(0.8*len(words))\n",
    "n2 = int(0.9*len(words))\n",
    "\n",
    "Xtr, Ytr = build_dataset(words[:n1])    # 80%\n",
    "Xdev, Ydev = build_dataset(words[n1:n2])  # 10%\n",
    "Xte, Yte = build_dataset(words[n2:])    # 10%"
   ]
  },
  {
   "cell_type": "code",
   "execution_count": 6,
   "metadata": {},
   "outputs": [],
   "source": [
    "n_embd = 10\n",
    "n_hidden = 200\n",
    "\n",
    "g = torch.Generator().manual_seed(2147483647)\n",
    "C = torch.randn((vocab_size, n_embd), generator=g)\n",
    "W1 = torch.randn((n_embd * block_size, n_hidden), generator=g)\n",
    "b1 = torch.randn(n_hidden, generator=g)\n",
    "W2 = torch.randn((n_hidden, vocab_size), generator=g) * 0.1\n",
    "b2 = torch.randn(vocab_size, generator=g) * 0\n",
    "\n",
    "parameters = [C, W1, b1, W2, b2]\n",
    "for p in parameters:\n",
    "    p.requires_grad = True"
   ]
  },
  {
   "cell_type": "code",
   "execution_count": 7,
   "metadata": {},
   "outputs": [
    {
     "name": "stdout",
     "output_type": "stream",
     "text": [
      "      0/ 200000: 4.2326\n",
      "  10000/ 200000: 2.1403\n",
      "  20000/ 200000: 2.4720\n",
      "  30000/ 200000: 2.5577\n",
      "  40000/ 200000: 2.0154\n",
      "  50000/ 200000: 2.4307\n",
      "  60000/ 200000: 2.3385\n",
      "  70000/ 200000: 2.0680\n",
      "  80000/ 200000: 2.2665\n",
      "  90000/ 200000: 2.1172\n",
      " 100000/ 200000: 1.9299\n",
      " 110000/ 200000: 2.0630\n",
      " 120000/ 200000: 1.8901\n",
      " 130000/ 200000: 2.3980\n",
      " 140000/ 200000: 2.2826\n",
      " 150000/ 200000: 2.1250\n",
      " 160000/ 200000: 1.8469\n",
      " 170000/ 200000: 1.7627\n",
      " 180000/ 200000: 1.9119\n",
      " 190000/ 200000: 1.8235\n"
     ]
    }
   ],
   "source": [
    "# same optimization as last time\n",
    "max_steps = 200000\n",
    "batch_size = 32\n",
    "context = torch.zeros((batch_size, block_size), dtype=torch.long)\n",
    "\n",
    "lossi = []\n",
    "\n",
    "for i in range(max_steps):\n",
    "\n",
    "    # minibatch construct\n",
    "    ix = torch.randint(0, Xtr.shape[0], (batch_size,), generator=g)\n",
    "    Xb, Yb = Xtr[ix], Ytr[ix] # batch X,Y\n",
    "\n",
    "    # forward pass\n",
    "    emb = C[Xb] # embed the characters into vectors\n",
    "    embcat = emb.view(emb.shape[0], -1) # concatenate the vectors\n",
    "    hpreact = embcat @ W1 + b1 # hidden layer pre-activation\n",
    "    h = torch.tanh(emb.view(batch_size, -1) @ W1 + b1)\n",
    "    logits = h @ W2 + b2 # output layer\n",
    "    loss = F.cross_entropy(logits, Yb) # loss function\n",
    "\n",
    "    # backward pass\n",
    "    for p in parameters:\n",
    "        p.grad = None\n",
    "    loss.backward()\n",
    "\n",
    "    # update\n",
    "    lr = 0.1 if i < 100000 else 0.01 # step learning rate decay\n",
    "    for p in parameters:\n",
    "        p.data += -lr * p.grad\n",
    "\n",
    "    # track stats\n",
    "    if i % 10000 == 0: # print every once in a while\n",
    "        print(f'{i:7d}/{max_steps:7d}: {loss.item():.4f}')\n",
    "    lossi.append(loss.log10().item())\n",
    "\n"
   ]
  },
  {
   "cell_type": "code",
   "execution_count": 8,
   "metadata": {},
   "outputs": [
    {
     "data": {
      "text/plain": [
       "(torch.Size([32, 200]), torch.Size([6400]))"
      ]
     },
     "execution_count": 8,
     "metadata": {},
     "output_type": "execute_result"
    }
   ],
   "source": [
    "h.shape,h.view(-1).shape"
   ]
  },
  {
   "cell_type": "code",
   "execution_count": 9,
   "metadata": {},
   "outputs": [
    {
     "data": {
      "text/plain": [
       "tensor([[-0.3588,  2.2734, -0.5717, -1.0265, -0.5323,  2.7931, -2.7862, -1.6931,\n",
       "          0.9937,  3.0595, -1.3960, -1.6042,  2.9532,  1.9452,  4.2485,  2.0984,\n",
       "         -0.2305, -4.9470,  2.1653,  1.6746,  0.6986, -0.9003,  0.4734, -2.4146,\n",
       "         -2.6488,  3.1915,  0.2599],\n",
       "        [ 3.4689,  3.0135, -1.7622,  2.6338,  2.5507,  2.3961, -1.0376, -0.1238,\n",
       "         -0.6347,  0.8225, -0.3262,  1.1308,  3.7195, -0.9326,  4.0665,  1.1402,\n",
       "         -5.6582, -3.0971,  0.7926,  3.6226,  2.3125, -1.6381, -0.0374, -4.6684,\n",
       "          1.9819,  1.3236, -0.2084],\n",
       "        [ 5.0953,  2.7431, -2.9845,  0.9829,  3.3271,  1.9515, -1.8603,  1.1575,\n",
       "         -1.9423,  3.3473, -0.0881,  0.5005,  0.7690, -2.3706,  1.4164,  0.6834,\n",
       "         -3.6027, -2.5452, -1.6960,  1.7972,  2.3101,  0.9007, -0.5690, -3.2362,\n",
       "          0.6240,  1.9204,  1.0161],\n",
       "        [ 0.8796,  6.6966, -0.2715, -1.2150, -3.2582,  5.4991, -3.1417, -4.5839,\n",
       "          2.9252,  3.5188, -0.7174, -0.8284,  0.7735,  0.0548, -1.7944,  5.8285,\n",
       "         -2.6282, -6.0135,  1.2608,  0.1864, -2.9021,  4.1037, -0.5419,  0.0512,\n",
       "         -4.8070,  2.5803, -1.5457],\n",
       "        [-1.7447,  7.0047, -0.2959,  2.9765, -0.7517,  5.2977, -2.0038, -5.7068,\n",
       "         -2.4814,  5.2745, -0.2661, -2.9309, -1.2252, -1.1156, -1.7887,  4.9431,\n",
       "         -1.6148, -4.4798, -0.9588, -1.3442, -2.3619,  4.0530, -3.6274, -2.3724,\n",
       "         -4.5650,  4.2810, -1.1412],\n",
       "        [ 2.7841,  0.1467, -0.1965, -0.1217,  0.5086,  0.1397, -2.4547, -3.3720,\n",
       "         -0.9005,  1.7298, -1.2267, -1.4037,  2.5165, -1.0328,  2.7372,  1.5557,\n",
       "         -1.8170, -3.4609,  2.6334,  1.5067, -1.3427,  1.5639, -1.4771,  2.1377,\n",
       "          1.2076,  1.4130, -1.4611],\n",
       "        [ 2.1077,  3.8449,  0.8469,  0.9570,  2.0771,  1.9343, -1.4471, -0.9390,\n",
       "          0.7916,  2.0349, -1.1267,  0.4190,  3.5091,  1.0142,  1.6113, -0.0721,\n",
       "         -2.4098, -0.9866,  2.3766,  2.2321,  0.8212,  0.1738,  2.1407, -4.9033,\n",
       "         -2.9001,  0.9482,  1.4314],\n",
       "        [-4.7941,  2.0465,  0.3959,  0.5408,  0.7860,  0.8260, -0.9465, -0.1244,\n",
       "         -0.2694, -0.4866,  1.0261,  1.3126,  0.4523,  1.2019,  0.2904, -0.3701,\n",
       "         -0.5194, -1.7998,  0.5969,  1.0385,  0.3934, -2.7203, -1.0427, -1.1133,\n",
       "         -1.9277, -0.5481,  0.0815],\n",
       "        [-2.8908, -0.7280, -0.3895,  0.2272,  0.8917,  0.4901, -0.5701, -1.8674,\n",
       "          1.0138,  1.5219, -0.0827,  1.0395,  1.3561,  1.0223,  0.9635, -1.8532,\n",
       "         -0.6969, -1.5652,  1.4719,  1.7360,  1.7065, -1.4369,  1.5188, -1.0455,\n",
       "         -0.8847,  2.0181,  1.3730],\n",
       "        [-4.7941,  2.0465,  0.3959,  0.5408,  0.7860,  0.8260, -0.9465, -0.1244,\n",
       "         -0.2694, -0.4866,  1.0261,  1.3126,  0.4523,  1.2019,  0.2904, -0.3701,\n",
       "         -0.5194, -1.7998,  0.5969,  1.0385,  0.3934, -2.7203, -1.0427, -1.1133,\n",
       "         -1.9277, -0.5481,  0.0815],\n",
       "        [ 5.5738,  1.5057,  0.3069, -0.9773,  1.2175,  2.7953, -0.2963, -1.2699,\n",
       "         -2.0145,  1.9846, -0.5173, -0.5494,  5.0268,  1.3173,  3.6091, -0.5968,\n",
       "         -0.3260, -6.0725,  4.4265,  2.1243,  1.7611, -0.2879,  1.7897, -4.9988,\n",
       "         -0.6269,  2.5331,  0.3614],\n",
       "        [ 5.7405,  5.0721, -4.8658,  0.3429,  2.7157,  4.2863, -3.2662, -0.1683,\n",
       "         -3.0582,  3.2727, -2.5445, -2.5769,  1.0404, -2.8623,  4.3557,  3.2937,\n",
       "         -4.2466, -3.2890, -1.8683,  1.2415,  0.2848,  0.5900, -1.7917, -3.1942,\n",
       "         -1.6170,  2.6863,  2.0338],\n",
       "        [ 4.8686,  4.4192, -1.8539,  3.0263,  1.8057,  3.7706, -0.7021,  2.8472,\n",
       "         -2.2281,  3.0747, -1.5749,  0.9869,  1.5574, -1.8001,  2.1453,  2.4176,\n",
       "         -5.9937, -3.6668, -1.2867,  1.5534,  1.6024, -0.6333, -1.3270, -2.4239,\n",
       "         -3.6654,  0.9852, -0.3490],\n",
       "        [-4.7941,  2.0465,  0.3959,  0.5408,  0.7860,  0.8260, -0.9465, -0.1244,\n",
       "         -0.2694, -0.4866,  1.0261,  1.3126,  0.4523,  1.2019,  0.2904, -0.3701,\n",
       "         -0.5194, -1.7998,  0.5969,  1.0385,  0.3934, -2.7203, -1.0427, -1.1133,\n",
       "         -1.9277, -0.5481,  0.0815],\n",
       "        [ 0.3314,  3.2422,  1.1954, -0.3988,  1.4522,  3.8880, -0.0418, -3.2553,\n",
       "          0.4399,  3.2191, -2.0516, -0.6850,  2.7773,  0.3825, -1.3324,  1.5438,\n",
       "          0.4315, -3.3519, -0.2279, -0.9931,  0.1997,  0.3697,  0.8870, -0.2592,\n",
       "         -3.3543,  2.8219, -1.1818],\n",
       "        [ 6.0632,  0.8974,  1.1601,  2.2704,  0.3422,  1.2099, -2.4474, -0.8565,\n",
       "          2.8350,  2.1090,  0.5607, -0.0570,  0.3542,  0.5234,  2.6597, -2.9518,\n",
       "         -1.1009, -1.2965,  0.4601,  1.3288,  1.1817, -2.2683,  1.1180, -1.2277,\n",
       "         -1.5829,  0.4827, -0.7296],\n",
       "        [ 6.3680, -1.7896,  1.7285,  0.6342,  1.2659,  0.6594, -2.3754, -1.3935,\n",
       "          3.8705,  1.5060, -0.3509, -0.3851,  3.3228,  1.7883,  2.7108, -4.1216,\n",
       "         -0.8703, -1.8417,  2.2770,  2.0649,  1.5933, -3.7847,  1.5883, -2.5383,\n",
       "         -2.1422,  2.1348, -2.0385],\n",
       "        [-1.7447,  7.0047, -0.2959,  2.9765, -0.7517,  5.2977, -2.0038, -5.7068,\n",
       "         -2.4814,  5.2745, -0.2661, -2.9309, -1.2252, -1.1156, -1.7887,  4.9431,\n",
       "         -1.6148, -4.4798, -0.9588, -1.3442, -2.3619,  4.0530, -3.6274, -2.3724,\n",
       "         -4.5650,  4.2810, -1.1412],\n",
       "        [-1.0214,  4.7643, -2.5803,  1.2792, -3.6272,  3.6146, -4.6449, -3.5655,\n",
       "          3.8372,  3.3098, -0.9852,  1.9847,  0.7870,  0.2422, -0.1446,  3.3665,\n",
       "          0.9278, -5.9154,  0.9469, -0.6158,  2.9968,  2.5843, -0.3989,  0.4248,\n",
       "         -4.8285,  2.2160, -1.2712],\n",
       "        [-2.6471,  5.9896, -3.5116, -1.1575, -2.0114,  5.9987, -1.8588, -3.3415,\n",
       "          0.6013,  5.2599,  0.2943, -4.2193,  1.6439, -0.0652, -1.4368,  5.3724,\n",
       "         -1.6242, -5.1149,  0.1513, -1.9148, -1.4788,  4.7929, -0.7713, -1.0891,\n",
       "         -7.1866,  4.7960, -0.0672],\n",
       "        [ 5.0099,  6.6461, -1.7584, -2.1993, -1.5173,  5.8040, -4.8539, -5.9914,\n",
       "          1.8615,  4.8795, -3.7148, -2.6556,  3.3520,  0.4662,  0.7398,  5.7729,\n",
       "         -1.8308, -6.1151,  2.2773, -0.6319,  2.9851,  2.6840, -3.4214, -2.5747,\n",
       "         -4.2777,  4.1276, -0.4865],\n",
       "        [-4.7941,  2.0465,  0.3959,  0.5408,  0.7860,  0.8260, -0.9465, -0.1244,\n",
       "         -0.2694, -0.4866,  1.0261,  1.3126,  0.4523,  1.2019,  0.2904, -0.3701,\n",
       "         -0.5194, -1.7998,  0.5969,  1.0385,  0.3934, -2.7203, -1.0427, -1.1133,\n",
       "         -1.9277, -0.5481,  0.0815],\n",
       "        [-4.7941,  2.0465,  0.3959,  0.5408,  0.7860,  0.8260, -0.9465, -0.1244,\n",
       "         -0.2694, -0.4866,  1.0261,  1.3126,  0.4523,  1.2019,  0.2904, -0.3701,\n",
       "         -0.5194, -1.7998,  0.5969,  1.0385,  0.3934, -2.7203, -1.0427, -1.1133,\n",
       "         -1.9277, -0.5481,  0.0815],\n",
       "        [-2.8908, -0.7280, -0.3895,  0.2272,  0.8917,  0.4901, -0.5701, -1.8674,\n",
       "          1.0138,  1.5219, -0.0827,  1.0395,  1.3561,  1.0223,  0.9635, -1.8532,\n",
       "         -0.6969, -1.5652,  1.4719,  1.7360,  1.7065, -1.4369,  1.5188, -1.0455,\n",
       "         -0.8847,  2.0181,  1.3730],\n",
       "        [ 5.8861,  7.1611, -1.8706,  1.7992, -1.6085,  5.8238, -2.5871, -1.3901,\n",
       "         -0.5308,  5.8543, -1.3094, -0.1884,  2.1913, -3.3971, -0.6082,  3.9432,\n",
       "         -6.8999, -0.7489,  0.6813,  1.8112, -0.1618,  2.2449, -1.0180, -2.1304,\n",
       "         -0.9546,  4.6796, -2.7328],\n",
       "        [ 0.1262,  5.8188,  1.2889, -0.1983,  0.4794,  5.1355, -2.7476, -3.8490,\n",
       "         -0.9851,  5.4755, -2.6666, -0.2074,  3.8364,  0.9162, -2.9450,  3.8556,\n",
       "         -1.7296, -3.7262,  1.1421,  1.6860, -0.7307,  1.8619, -0.6413, -0.9607,\n",
       "         -5.6195,  4.5415,  0.0427],\n",
       "        [ 4.0060,  3.7294, -1.5293,  0.5172,  0.6103,  4.1943, -0.4247, -2.0972,\n",
       "         -1.6125,  1.1437, -0.4132,  0.5625,  0.9269, -0.6217,  3.8324,  2.5981,\n",
       "         -3.7207,  0.0899,  1.3285,  1.2667,  0.0881, -0.9083, -2.0331, -3.8354,\n",
       "         -0.6208,  2.0525,  0.0385],\n",
       "        [-2.3879, -0.4139,  0.0396,  1.6049,  0.8307,  0.7191, -1.6157, -1.6652,\n",
       "          1.4226,  1.5941, -2.7718,  0.8367,  0.7584,  1.9964,  1.9499, -2.1105,\n",
       "         -2.7328, -0.0528,  0.9385,  1.4845, -0.7029, -3.2271,  0.7631, -0.8548,\n",
       "          1.1162,  2.7335,  1.0366],\n",
       "        [ 5.0294,  4.9408, -0.8272, -1.0982, -0.0725,  4.3384, -5.4948, -4.9557,\n",
       "          2.6227,  3.6391, -2.4579,  0.0828,  2.3905,  0.0452,  0.5610,  5.2165,\n",
       "          0.1922, -3.3550,  1.9228,  0.1489,  2.9915,  2.5484, -0.9251, -5.6168,\n",
       "         -5.1752,  1.7725, -1.5179],\n",
       "        [-4.9618,  0.8373,  0.7845, -0.6811,  1.8912,  0.1925, -1.1068, -1.5706,\n",
       "          0.0381,  0.9937, -1.0786,  0.1697,  2.0584,  1.5719,  2.0938, -1.6971,\n",
       "         -1.3926, -1.6900,  2.0595,  1.1042, -0.1785,  0.8175,  1.1146, -2.7555,\n",
       "         -0.7410,  1.1782,  0.7606],\n",
       "        [ 5.0310,  6.4776,  0.0615,  0.0264, -0.8224,  4.8378, -2.6348, -5.4627,\n",
       "          1.1167,  4.3260, -1.5688,  1.0405,  2.2509, -2.4585, -2.1391,  4.4899,\n",
       "         -1.3381, -3.4074,  2.0501,  0.0293,  1.1568,  0.9225, -3.0267, -4.0791,\n",
       "         -4.8947,  4.1444,  0.8855],\n",
       "        [ 2.5060,  1.4783,  0.2135, -0.0420,  2.4161, -0.0430, -1.5874,  0.1072,\n",
       "         -1.8027, -0.0913,  1.4099,  1.0054,  3.9081,  1.4724,  2.9767, -1.7857,\n",
       "         -4.8240, -2.5098,  2.3229,  2.7291,  0.8119, -0.7084,  0.6076, -3.6815,\n",
       "         -0.2749, -0.4958,  1.9344]], grad_fn=<AddBackward0>)"
      ]
     },
     "execution_count": 9,
     "metadata": {},
     "output_type": "execute_result"
    }
   ],
   "source": [
    "logits"
   ]
  },
  {
   "cell_type": "code",
   "execution_count": 10,
   "metadata": {},
   "outputs": [
    {
     "data": {
      "text/plain": [
       "(tensor([3.1741e-04, 9.4620e-01, 6.3754e-03, 4.7108e-02]), tensor(5.0553))"
      ]
     },
     "execution_count": 10,
     "metadata": {},
     "output_type": "execute_result"
    }
   ],
   "source": [
    "# 4 dimmensional example of the issue\n",
    "logits = torch.tensor([-3.0,5.0,0.0,2.0])\n",
    "probs = torch.softmax(logits, dim=0)\n",
    "loss = -probs[2].log()\n",
    "\n",
    "probs, loss"
   ]
  },
  {
   "cell_type": "code",
   "execution_count": 11,
   "metadata": {},
   "outputs": [
    {
     "data": {
      "text/plain": [
       "[<matplotlib.lines.Line2D at 0x7fb72b37f610>]"
      ]
     },
     "execution_count": 11,
     "metadata": {},
     "output_type": "execute_result"
    },
    {
     "data": {
      "image/png": "[encoded data removed]",
      "text/plain": [
       "<Figure size 640x480 with 1 Axes>"
      ]
     },
     "metadata": {},
     "output_type": "display_data"
    }
   ],
   "source": [
    "plt.plot(lossi)"
   ]
  },
  {
   "cell_type": "code",
   "execution_count": 12,
   "metadata": {
    "scrolled": true
   },
   "outputs": [
    {
     "name": "stdout",
     "output_type": "stream",
     "text": [
      "train 2.0681493282318115\n",
      "val 2.132511854171753\n"
     ]
    }
   ],
   "source": [
    "@torch.no_grad() # this decorator disables gradient tracking\n",
    "def split_loss(split):\n",
    "    x,y = {\n",
    "        'train': (Xtr, Ytr),\n",
    "        'val': (Xdev, Ydev),\n",
    "        'test': (Xte, Yte),\n",
    "    }[split]\n",
    "    emb = C[x] # (N, block_size, n_embd)\n",
    "    embcat = emb.view(emb.shape[0], -1) # concat into (N, block_size * n_embd)\n",
    "    h = torch.tanh(embcat @ W1 + b1) # (N, n_hidden)\n",
    "    logits = h @ W2 + b2 # (N, vocab_size)\n",
    "    loss = F.cross_entropy(logits, y)\n",
    "    print(split, loss.item())\n",
    "\n",
    "split_loss('train')\n",
    "split_loss('val')"
   ]
  },
  {
   "cell_type": "code",
   "execution_count": 13,
   "metadata": {},
   "outputs": [
    {
     "name": "stdout",
     "output_type": "stream",
     "text": [
      "mon.\n",
      "ammyah.\n",
      "see.\n",
      "madhayla.\n",
      "reisanjendraeg.\n",
      "adelyn.\n",
      "elin.\n",
      "shi.\n",
      "jenne.\n",
      "elissopharleiyah.\n",
      "honelin.\n",
      "shubergahimie.\n",
      "trick.\n",
      "welle.\n",
      "jose.\n",
      "cayuszey.\n",
      "der.\n",
      "yarleyeha.\n",
      "kayshayveyah.\n",
      "halina.\n"
     ]
    }
   ],
   "source": [
    "# sample from the model\n",
    "g = torch.Generator().manual_seed(2147483647 + 10)\n",
    "\n",
    "for _ in range(20):\n",
    "    out = []\n",
    "    context = [0] * block_size # initialize with all ...\n",
    "    while True:\n",
    "        # forward pass the neural net\n",
    "        emb = C[context]  # (batch_size, block_size, n_embd)\n",
    "        h = torch.tanh(emb.view(1, -1) @ W1 + b1)\n",
    "        logits = h @ W2 + b2\n",
    "        probs = F.softmax(logits, dim=1)\n",
    "        # sample from the distribution\n",
    "        ix = torch.multinomial(probs, num_samples=1, generator=g).item()\n",
    "        # shift the context window and track the samples\n",
    "        context = context[1:] + [ix]\n",
    "        out.append(ix)\n",
    "        # if we sample the special '.' token, break\n",
    "        if ix == 0:\n",
    "            break\n",
    "    \n",
    "    print(''.join(itos[i] for i in out)) # decode and print the generated word"
   ]
  }
 ],
 "metadata": {
  "kernelspec": {
   "display_name": "Python 3 (ipykernel)",
   "language": "python",
   "name": "python3"
  },
  "language_info": {
   "codemirror_mode": {
    "name": "ipython",
    "version": 3
   },
   "file_extension": ".py",
   "mimetype": "text/x-python",
   "name": "python",
   "nbconvert_exporter": "python",
   "pygments_lexer": "ipython3",
   "version": "3.11.8"
  }
 },
 "nbformat": 4,
 "nbformat_minor": 4
}
