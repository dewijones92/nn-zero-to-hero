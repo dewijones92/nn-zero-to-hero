{
 "cells": [
  {
   "cell_type": "code",
   "execution_count": 1,
   "metadata": {},
   "outputs": [],
   "source": [
    "import torch\n",
    "import torch.nn.functional as F\n",
    "import matplotlib.pyplot as plt # for making figures\n",
    "%matplotlib inline"
   ]
  },
  {
   "cell_type": "code",
   "execution_count": 2,
   "metadata": {},
   "outputs": [
    {
     "data": {
      "text/plain": [
       "['emma', 'olivia', 'ava', 'isabella', 'sophia', 'charlotte', 'mia', 'amelia']"
      ]
     },
     "execution_count": 2,
     "metadata": {},
     "output_type": "execute_result"
    }
   ],
   "source": [
    "# read in all the words\n",
    "words = open('names.txt', 'r').read().splitlines()\n",
    "words[:8]"
   ]
  },
  {
   "cell_type": "code",
   "execution_count": 3,
   "metadata": {},
   "outputs": [
    {
     "data": {
      "text/plain": [
       "32033"
      ]
     },
     "execution_count": 3,
     "metadata": {},
     "output_type": "execute_result"
    }
   ],
   "source": [
    "len(words)"
   ]
  },
  {
   "cell_type": "code",
   "execution_count": 4,
   "metadata": {},
   "outputs": [
    {
     "name": "stdout",
     "output_type": "stream",
     "text": [
      "{1: 'a', 2: 'b', 3: 'c', 4: 'd', 5: 'e', 6: 'f', 7: 'g', 8: 'h', 9: 'i', 10: 'j', 11: 'k', 12: 'l', 13: 'm', 14: 'n', 15: 'o', 16: 'p', 17: 'q', 18: 'r', 19: 's', 20: 't', 21: 'u', 22: 'v', 23: 'w', 24: 'x', 25: 'y', 26: 'z', 0: '.'}\n"
     ]
    }
   ],
   "source": [
    "# build the vocabulary of characters and mappings to/from integers\n",
    "chars = sorted(list(set(''.join(words))))\n",
    "stoi = {s:i+1 for i,s in enumerate(chars)}\n",
    "stoi['.'] = 0\n",
    "itos = {i:s for s,i in stoi.items()}\n",
    "vocab_size = len(itos)\n",
    "print(itos)"
   ]
  },
  {
   "cell_type": "code",
   "execution_count": 5,
   "metadata": {},
   "outputs": [
    {
     "name": "stdout",
     "output_type": "stream",
     "text": [
      "torch.Size([182625, 3]) torch.Size([182625])\n",
      "torch.Size([22655, 3]) torch.Size([22655])\n",
      "torch.Size([22866, 3]) torch.Size([22866])\n"
     ]
    }
   ],
   "source": [
    "# build the dataset\n",
    "block_size = 3 # context length: how many characters do we take to predict the next one?\n",
    "\n",
    "def build_dataset(words):\n",
    "    X, Y = [], []\n",
    "    \n",
    "    for w in words:\n",
    "        context = [0] * block_size\n",
    "        for ch in w + '.':\n",
    "            ix = stoi[ch]\n",
    "            X.append(context)\n",
    "            Y.append(ix)\n",
    "            context = context[1:] + [ix] # crop and append\n",
    "    \n",
    "    X = torch.tensor(X)\n",
    "    Y = torch.tensor(Y)\n",
    "    print(X.shape, Y.shape)\n",
    "    return X, Y\n",
    "\n",
    "import random\n",
    "random.seed(42)\n",
    "random.shuffle(words)\n",
    "n1 = int(0.8*len(words))\n",
    "n2 = int(0.9*len(words))\n",
    "\n",
    "Xtr, Ytr = build_dataset(words[:n1])    # 80%\n",
    "Xdev, Ydev = build_dataset(words[n1:n2])  # 10%\n",
    "Xte, Yte = build_dataset(words[n2:])    # 10%"
   ]
  },
  {
   "cell_type": "code",
   "execution_count": 6,
   "metadata": {},
   "outputs": [
    {
     "name": "stdout",
     "output_type": "stream",
     "text": [
      "12097\n"
     ]
    }
   ],
   "source": [
    "n_embd = 10\n",
    "n_hidden = 200\n",
    "\n",
    "g = torch.Generator().manual_seed(2147483647)\n",
    "C = torch.randn((vocab_size, n_embd), generator=g)\n",
    "W1 = torch.randn((n_embd * block_size, n_hidden), generator=g) * (5/3) / ((n_embd*block_size)**0.5)\n",
    "b1 = torch.randn(n_hidden, generator=g) * 0.01\n",
    "W2 = torch.randn((n_hidden, vocab_size), generator=g) * 0.01\n",
    "b2 = torch.randn(vocab_size, generator=g) * 0\n",
    "\n",
    "bngain = torch.ones((1, n_hidden))\n",
    "bnbias = torch.ones((1, n_hidden))\n",
    "bnmean_running = torch.zeros((1, n_hidden))\n",
    "bnstd_running = torch.ones((1, n_hidden))\n",
    "\n",
    "parameters = [C, W1, W2, b2, bngain, bnbias]\n",
    "print(sum(p.nelement() for p in parameters))\n",
    "for p in parameters:\n",
    "    p.requires_grad = True"
   ]
  },
  {
   "cell_type": "code",
   "execution_count": 7,
   "metadata": {},
   "outputs": [
    {
     "data": {
      "text/plain": [
       "tensor(0.2030)"
      ]
     },
     "execution_count": 7,
     "metadata": {},
     "output_type": "execute_result"
    }
   ],
   "source": [
    "(torch.randn(1000)*0.2).std()"
   ]
  },
  {
   "cell_type": "code",
   "execution_count": 8,
   "metadata": {},
   "outputs": [
    {
     "data": {
      "text/plain": [
       "0.3042903097250923"
      ]
     },
     "execution_count": 8,
     "metadata": {},
     "output_type": "execute_result"
    }
   ],
   "source": [
    "(5/3) / (30**0.5)"
   ]
  },
  {
   "cell_type": "code",
   "execution_count": 9,
   "metadata": {},
   "outputs": [
    {
     "name": "stdout",
     "output_type": "stream",
     "text": [
      "tensor(0.0094) tensor(0.9897)\n",
      "tensor(0.0011) tensor(0.9761)\n"
     ]
    },
    {
     "data": {
      "image/png": "[encoded data removed]",
      "text/plain": [
       "<Figure size 2000x500 with 2 Axes>"
      ]
     },
     "metadata": {},
     "output_type": "display_data"
    }
   ],
   "source": [
    "x = torch.randn(1000, 10)\n",
    "w = torch.randn(10, 200) / 10**0.5\n",
    "y = x @ w\n",
    "print(x.mean(), x.std())\n",
    "print(y.mean(), y.std())\n",
    "plt.figure(figsize=(20,5))\n",
    "plt.subplot(121)\n",
    "plt.hist(x.view(-1).tolist(), 50, density=True);\n",
    "plt.subplot(122)\n",
    "plt.hist(y.view(-1).tolist(), 50, density=True);"
   ]
  },
  {
   "cell_type": "code",
   "execution_count": 10,
   "metadata": {},
   "outputs": [
    {
     "name": "stdout",
     "output_type": "stream",
     "text": [
      "      0/ 200000: 3.3401\n",
      "  10000/ 200000: 2.2846\n",
      "  20000/ 200000: 2.3284\n",
      "  30000/ 200000: 2.5253\n",
      "  40000/ 200000: 1.9592\n",
      "  50000/ 200000: 2.5090\n",
      "  60000/ 200000: 2.3124\n",
      "  70000/ 200000: 2.0885\n",
      "  80000/ 200000: 2.3997\n",
      "  90000/ 200000: 2.1687\n",
      " 100000/ 200000: 1.9234\n",
      " 110000/ 200000: 2.3111\n",
      " 120000/ 200000: 1.9855\n",
      " 130000/ 200000: 2.5203\n",
      " 140000/ 200000: 2.3359\n",
      " 150000/ 200000: 2.2478\n",
      " 160000/ 200000: 2.0123\n",
      " 170000/ 200000: 1.8866\n",
      " 180000/ 200000: 1.9666\n",
      " 190000/ 200000: 1.8665\n"
     ]
    }
   ],
   "source": [
    "# same optimization as last time\n",
    "max_steps = 200000\n",
    "batch_size = 32\n",
    "context = torch.zeros((batch_size, block_size), dtype=torch.long)\n",
    "\n",
    "lossi = []\n",
    "\n",
    "for i in range(max_steps):\n",
    "\n",
    "    # minibatch construct\n",
    "    ix = torch.randint(0, Xtr.shape[0], (batch_size,), generator=g)\n",
    "    Xb, Yb = Xtr[ix], Ytr[ix] # batch X,Y\n",
    "\n",
    "    # forward pass\n",
    "    emb = C[Xb] # embed the characters into vectors\n",
    "    embcat = emb.view(emb.shape[0], -1) # concatenate the vectors\n",
    "    hpreact = embcat @ W1# + b1 # hidden layer pre-activation\n",
    "    bnmeani = hpreact.mean(0, keepdim=True)\n",
    "    bnstdi = hpreact.std(0,keepdim=True)\n",
    "    hpreact = bngain * (hpreact - bnmeani)/bnstdi + bnbias\n",
    "\n",
    "    with torch.no_grad():\n",
    "        bnmean_running = 0.999 * bnmean_running + 0.001 * bnmeani\n",
    "        bnstd_running = 0.999 * bnstd_running + 0.001 * bnstdi\n",
    "    \n",
    "    h = torch.tanh(hpreact) # apply activation function\n",
    "    logits = h @ W2 + b2 # output layer\n",
    "    loss = F.cross_entropy(logits, Yb) # loss function\n",
    "    \n",
    "    # backward pass\n",
    "    for p in parameters:\n",
    "        p.grad = None\n",
    "    loss.backward()\n",
    "\n",
    "    # update\n",
    "    lr = 0.1 if i < 100000 else 0.01 # step learning rate decay\n",
    "    for p in parameters:\n",
    "        p.data += -lr * p.grad\n",
    "\n",
    "    # track stats\n",
    "    if i % 10000 == 0: # print every once in a while\n",
    "        print(f'{i:7d}/{max_steps:7d}: {loss.item():.4f}')\n",
    "    lossi.append(loss.log10().item())\n",
    "   # break;"
   ]
  },
  {
   "cell_type": "code",
   "execution_count": 11,
   "metadata": {},
   "outputs": [
    {
     "data": {
      "text/plain": [
       "torch.Size([32, 200])"
      ]
     },
     "execution_count": 11,
     "metadata": {},
     "output_type": "execute_result"
    }
   ],
   "source": [
    "h.shape"
   ]
  },
  {
   "cell_type": "code",
   "execution_count": 12,
   "metadata": {},
   "outputs": [
    {
     "data": {
      "text/plain": [
       "<matplotlib.image.AxesImage at 0x7f3a80764d50>"
      ]
     },
     "execution_count": 12,
     "metadata": {},
     "output_type": "execute_result"
    },
    {
     "data": {
      "image/png": "[encoded data removed]",
      "text/plain": [
       "<Figure size 2000x1000 with 1 Axes>"
      ]
     },
     "metadata": {},
     "output_type": "display_data"
    }
   ],
   "source": [
    "plt.figure(figsize=(20,10))\n",
    "plt.imshow(h.abs() > 0.99, cmap='gray', interpolation='nearest')"
   ]
  },
  {
   "cell_type": "code",
   "execution_count": 13,
   "metadata": {},
   "outputs": [
    {
     "data": {
      "image/png": "[encoded data removed]",
      "text/plain": [
       "<Figure size 640x480 with 1 Axes>"
      ]
     },
     "metadata": {},
     "output_type": "display_data"
    }
   ],
   "source": [
    "plt.hist(h.view(-1).tolist(), 50);"
   ]
  },
  {
   "cell_type": "code",
   "execution_count": 14,
   "metadata": {},
   "outputs": [
    {
     "data": {
      "image/png": "[encoded data removed]",
      "text/plain": [
       "<Figure size 640x480 with 1 Axes>"
      ]
     },
     "metadata": {},
     "output_type": "display_data"
    }
   ],
   "source": [
    "    plt.hist(hpreact.view(-1).tolist(), 50);"
   ]
  },
  {
   "cell_type": "code",
   "execution_count": 15,
   "metadata": {},
   "outputs": [
    {
     "data": {
      "text/plain": [
       "(tensor([3.1741e-04, 9.4620e-01, 6.3754e-03, 4.7108e-02]), tensor(5.0553))"
      ]
     },
     "execution_count": 15,
     "metadata": {},
     "output_type": "execute_result"
    }
   ],
   "source": [
    "# 4 dimmensional example of the issue\n",
    "logits = torch.tensor([-3.0,5.0,0.0,2.0])\n",
    "probs = torch.softmax(logits, dim=0)\n",
    "loss = -probs[2].log()\n",
    "\n",
    "probs, loss"
   ]
  },
  {
   "cell_type": "code",
   "execution_count": 16,
   "metadata": {
    "scrolled": true
   },
   "outputs": [
    {
     "data": {
      "text/plain": [
       "[<matplotlib.lines.Line2D at 0x7f3a7f4406d0>]"
      ]
     },
     "execution_count": 16,
     "metadata": {},
     "output_type": "execute_result"
    },
    {
     "data": {
      "image/png": "[encoded data removed]",
      "text/plain": [
       "<Figure size 640x480 with 1 Axes>"
      ]
     },
     "metadata": {},
     "output_type": "display_data"
    }
   ],
   "source": [
    "plt.plot(lossi)"
   ]
  },
  {
   "cell_type": "code",
   "execution_count": 17,
   "metadata": {},
   "outputs": [],
   "source": [
    "# calibrate the batch norm at the end of the training\n",
    "\n",
    "with torch.no_grad():\n",
    "    emb = C[Xtr]\n",
    "    embcat = emb.view(emb.shape[0], -1)\n",
    "    hpreact = embcat @ W1 + b1\n",
    "    #measure the mean/std over the entire training set\n",
    "    bnmean = hpreact.mean(0, keepdim=True)\n",
    "    bnstd = hpreact.std(0,keepdim=True)"
   ]
  },
  {
   "cell_type": "code",
   "execution_count": 18,
   "metadata": {},
   "outputs": [
    {
     "data": {
      "text/plain": [
       "tensor([[-2.2919e-03,  2.2988e-04, -1.7935e+00,  3.9475e-01, -1.2088e+00,\n",
       "          8.8940e-01,  1.9944e+00,  1.7648e+00,  7.8241e-01,  2.2918e+00,\n",
       "         -2.2332e+00, -2.2610e+00, -8.9850e-01, -7.7207e-01, -5.9052e-01,\n",
       "          1.5853e+00,  3.0196e-01, -2.0090e+00, -1.1314e+00,  1.3202e+00,\n",
       "          9.6733e-01, -1.0198e+00,  9.5862e-01,  4.1243e-01,  9.6787e-01,\n",
       "          7.1672e-01,  6.9089e-01, -1.8534e+00,  3.5036e-01,  1.3999e+00,\n",
       "         -3.8203e-01, -1.9591e+00, -1.2362e+00, -2.0288e-01, -1.2511e+00,\n",
       "         -1.5688e+00, -2.2653e+00, -6.1519e-01,  1.4279e-01, -3.1524e-01,\n",
       "          2.2842e-01, -4.5146e-01, -1.0894e+00, -2.0974e-01,  1.6557e+00,\n",
       "          2.8455e-01, -5.9375e-01, -1.3964e+00,  1.1942e+00,  1.6368e+00,\n",
       "          6.3896e-01,  1.1443e+00,  2.1573e+00, -2.0216e-01,  1.2154e+00,\n",
       "         -1.7685e+00, -8.3349e-01,  8.9618e-01,  7.5470e-01, -6.1893e-01,\n",
       "         -1.6283e+00, -2.6782e-01, -9.2838e-01, -5.9752e-01,  7.1638e-02,\n",
       "         -4.8201e-01,  9.6417e-02,  7.8614e-01, -5.1656e-01,  9.9859e-02,\n",
       "         -1.4505e+00,  1.3454e-01,  1.2809e+00, -1.6628e+00, -1.9939e+00,\n",
       "          2.2385e-01,  1.3699e+00,  3.6065e-01,  8.7941e-01, -1.2734e-01,\n",
       "          7.3755e-01,  1.5727e+00,  7.8583e-01, -7.8564e-01,  7.9475e-01,\n",
       "         -9.9800e-01, -5.9838e-01, -8.4084e-01, -4.0571e-02, -9.8716e-01,\n",
       "         -6.5081e-02,  1.1281e+00, -8.8993e-01, -5.2194e-01, -5.4117e-01,\n",
       "         -4.0761e-01, -6.2652e-01, -1.2610e+00,  1.4379e+00, -1.8328e+00,\n",
       "         -3.6696e-01,  1.0405e+00, -1.2781e+00,  7.4725e-01,  9.2889e-01,\n",
       "         -8.6667e-01, -1.3221e+00, -2.7346e-01, -1.1658e-01, -3.1531e-01,\n",
       "          3.3098e-01,  5.1287e-01,  1.3896e-01,  1.5219e+00,  1.6247e+00,\n",
       "          8.8365e-01,  6.7888e-01, -6.0550e-01, -4.9036e-02, -1.0837e+00,\n",
       "         -3.4648e-01, -7.2452e-01,  3.5336e-01,  8.0780e-02, -1.0468e+00,\n",
       "         -1.6162e+00, -5.2622e-01, -8.8943e-01, -1.8885e+00, -3.5822e-01,\n",
       "          1.5000e+00,  6.6807e-02, -9.7635e-03,  1.4812e+00,  3.1426e-01,\n",
       "         -1.4004e+00, -3.7637e-01,  3.7508e-01,  3.7024e-01, -4.3591e-03,\n",
       "          1.3479e+00,  4.5449e-01,  1.2619e+00,  8.1514e-01,  1.0571e+00,\n",
       "          1.3410e-01,  1.4470e+00, -2.2290e+00,  1.1693e+00, -3.3891e-01,\n",
       "         -1.9583e+00,  5.4965e-01,  7.9686e-01,  1.4845e+00,  2.6240e-01,\n",
       "         -7.6283e-01,  1.5755e+00, -9.0973e-01, -1.9294e+00,  6.5513e-01,\n",
       "          9.0740e-01, -3.7838e-01, -6.8418e-01, -2.6393e+00, -1.0996e-01,\n",
       "          4.5832e-03,  6.8087e-02, -1.5407e+00, -2.2362e+00, -6.4599e-02,\n",
       "          8.1427e-01, -1.4289e+00, -1.3537e+00,  9.3356e-03,  2.6107e-01,\n",
       "         -7.6725e-01,  1.0931e+00, -9.1732e-01,  1.3887e+00, -1.5621e+00,\n",
       "          2.7095e+00,  1.1698e+00,  5.2371e-01, -2.8692e-01, -6.8339e-01,\n",
       "          2.3006e-01,  2.2825e-01, -7.6858e-01,  1.6053e+00,  2.7810e-01,\n",
       "         -5.5014e-01,  1.6747e+00, -9.9122e-01,  4.9280e-01, -1.0443e-01,\n",
       "          6.2689e-01,  1.8044e+00,  5.7174e-02,  6.2360e-01,  1.5568e-01]])"
      ]
     },
     "execution_count": 18,
     "metadata": {},
     "output_type": "execute_result"
    }
   ],
   "source": [
    "bnmean"
   ]
  },
  {
   "cell_type": "code",
   "execution_count": 19,
   "metadata": {},
   "outputs": [
    {
     "data": {
      "text/plain": [
       "tensor([[ 1.0099e-02,  1.4951e-02, -1.7953e+00,  3.7859e-01, -1.2071e+00,\n",
       "          8.7689e-01,  1.9920e+00,  1.7827e+00,  7.9401e-01,  2.2736e+00,\n",
       "         -2.2594e+00, -2.2700e+00, -9.0081e-01, -7.9899e-01, -6.0961e-01,\n",
       "          1.5901e+00,  3.1125e-01, -2.0072e+00, -1.1314e+00,  1.2925e+00,\n",
       "          9.8473e-01, -1.0295e+00,  9.4825e-01,  4.0311e-01,  9.5497e-01,\n",
       "          6.8561e-01,  6.8669e-01, -1.8273e+00,  3.3383e-01,  1.4238e+00,\n",
       "         -3.9883e-01, -1.9746e+00, -1.2365e+00, -1.9127e-01, -1.2365e+00,\n",
       "         -1.5606e+00, -2.2564e+00, -6.2468e-01,  1.3689e-01, -3.2114e-01,\n",
       "          2.2066e-01, -4.7009e-01, -1.0891e+00, -1.9231e-01,  1.6527e+00,\n",
       "          2.9555e-01, -5.9446e-01, -1.3826e+00,  1.1672e+00,  1.6533e+00,\n",
       "          6.3423e-01,  1.1448e+00,  2.1619e+00, -1.9653e-01,  1.2289e+00,\n",
       "         -1.7625e+00, -8.5136e-01,  8.7623e-01,  7.4405e-01, -6.3767e-01,\n",
       "         -1.6460e+00, -2.6172e-01, -9.2388e-01, -6.0753e-01,  7.2710e-02,\n",
       "         -4.8165e-01,  7.9690e-02,  7.8778e-01, -5.1380e-01,  1.0539e-01,\n",
       "         -1.4745e+00,  1.5485e-01,  1.2738e+00, -1.6272e+00, -1.9917e+00,\n",
       "          2.1705e-01,  1.3655e+00,  3.7057e-01,  8.7166e-01, -1.3037e-01,\n",
       "          7.1867e-01,  1.5704e+00,  7.9321e-01, -7.7598e-01,  8.0277e-01,\n",
       "         -9.8944e-01, -6.0261e-01, -8.4321e-01, -4.2173e-02, -9.8976e-01,\n",
       "         -8.8930e-02,  1.1114e+00, -8.9613e-01, -5.1788e-01, -5.4249e-01,\n",
       "         -4.0282e-01, -6.2546e-01, -1.2459e+00,  1.4483e+00, -1.7964e+00,\n",
       "         -3.7139e-01,  1.0333e+00, -1.2867e+00,  7.1801e-01,  9.2488e-01,\n",
       "         -8.9894e-01, -1.2982e+00, -2.5874e-01, -1.2732e-01, -3.0442e-01,\n",
       "          3.1399e-01,  5.1453e-01,  1.1074e-01,  1.5297e+00,  1.6120e+00,\n",
       "          9.0030e-01,  6.6145e-01, -6.1439e-01, -3.8136e-02, -1.0741e+00,\n",
       "         -3.5701e-01, -7.2131e-01,  3.6382e-01,  7.3917e-02, -1.0448e+00,\n",
       "         -1.6123e+00, -5.4742e-01, -8.7128e-01, -1.8779e+00, -3.5275e-01,\n",
       "          1.4987e+00,  6.2436e-02,  1.6031e-03,  1.4873e+00,  2.9862e-01,\n",
       "         -1.3873e+00, -3.8628e-01,  3.6346e-01,  3.6362e-01,  1.8772e-02,\n",
       "          1.3704e+00,  4.6754e-01,  1.2762e+00,  8.4295e-01,  1.0375e+00,\n",
       "          1.4174e-01,  1.4665e+00, -2.2546e+00,  1.1721e+00, -3.5284e-01,\n",
       "         -1.9583e+00,  5.5281e-01,  8.1259e-01,  1.4849e+00,  2.6460e-01,\n",
       "         -7.5994e-01,  1.5565e+00, -9.0838e-01, -1.9203e+00,  6.5018e-01,\n",
       "          8.8071e-01, -3.8563e-01, -6.7646e-01, -2.6435e+00, -1.2586e-01,\n",
       "         -1.1512e-02,  5.3461e-02, -1.5612e+00, -2.2397e+00, -6.0233e-02,\n",
       "          7.9241e-01, -1.4325e+00, -1.3502e+00,  2.4245e-02,  2.4251e-01,\n",
       "         -7.4349e-01,  1.0565e+00, -9.1381e-01,  1.3747e+00, -1.5496e+00,\n",
       "          2.6877e+00,  1.1823e+00,  5.3141e-01, -2.8893e-01, -6.9052e-01,\n",
       "          2.2012e-01,  2.2153e-01, -7.7579e-01,  1.6315e+00,  2.7598e-01,\n",
       "         -5.5121e-01,  1.6704e+00, -1.0153e+00,  4.6855e-01, -9.5508e-02,\n",
       "          6.3737e-01,  1.8130e+00,  6.4182e-02,  6.3075e-01,  1.4489e-01]])"
      ]
     },
     "execution_count": 19,
     "metadata": {},
     "output_type": "execute_result"
    }
   ],
   "source": [
    "bnmean_running"
   ]
  },
  {
   "cell_type": "code",
   "execution_count": 20,
   "metadata": {
    "scrolled": true
   },
   "outputs": [
    {
     "name": "stdout",
     "output_type": "stream",
     "text": [
      "train 2.066603660583496\n",
      "val 2.1120197772979736\n"
     ]
    }
   ],
   "source": [
    "@torch.no_grad() # this decorator disables gradient tracking\n",
    "def split_loss(split):\n",
    "    x,y = {\n",
    "        'train': (Xtr, Ytr),\n",
    "        'val': (Xdev, Ydev),\n",
    "        'test': (Xte, Yte),\n",
    "    }[split]\n",
    "    emb = C[x] # (N, block_size, n_embd)\n",
    "    embcat = emb.view(emb.shape[0], -1) # concat into (N, block_size * n_embd)\n",
    "    hpreact = embcat @ W1 + b1\n",
    "\n",
    "    hpreact = bngain * (hpreact - bnmean_running)/bnstd_running+bnbias\n",
    "    h = torch.tanh(hpreact)\n",
    "    logits = h @ W2 + b2 # (N, vocab_size)\n",
    "    loss = F.cross_entropy(logits, y)\n",
    "    print(split, loss.item())\n",
    "\n",
    "split_loss('train')\n",
    "split_loss('val')"
   ]
  },
  {
   "cell_type": "code",
   "execution_count": 21,
   "metadata": {},
   "outputs": [
    {
     "name": "stdout",
     "output_type": "stream",
     "text": [
      "mrraggunazzizbrendhlyam.\n",
      "quvurnghjgrben.\n",
      "qurrexstlingstpprenlokepplqtwfanthlyziqhmkamfiyshubirgshvrixstviktrenzlqwagterconnazkydd.\n",
      "quylduf.\n",
      "qhevrugustyfforunhzangagyansufazajacvorten.\n",
      "qubuniv.\n",
      "vosteffrddin.\n",
      "kxorbenjxpsingstctuzwubhmurrighstquxffevordwallaniktrbetz.\n",
      "quigstla.\n",
      "quitlf.\n",
      "xvalfigurghendrkefxrdor.\n",
      "xavonghkmaqzekhnkathp.\n",
      "judwit.\n",
      "bdoghzvordqucjaskpapspitlc.\n",
      "pptr.\n",
      "zizzagvontet.\n",
      "jhanplinklnnrxinggsttwordz.\n",
      "bryknazjaxthn.\n",
      "jandajtewan.\n",
      "cqubpsultzinghburuxcangchrnichmptermokswordylfordckupportej.\n"
     ]
    }
   ],
   "source": [
    "# sample from the model\n",
    "g = torch.Generator().manual_seed(2147483647 + 10)\n",
    "\n",
    "for _ in range(20):\n",
    "    out = []\n",
    "    context = [0] * block_size # initialize with all ...\n",
    "    while True:\n",
    "        # forward pass the neural net\n",
    "        emb = C[context]  # (batch_size, block_size, n_embd)\n",
    "        h = torch.tanh(emb.view(1, -1) @ W1 + b1)\n",
    "        logits = h @ W2 + b2\n",
    "        probs = F.softmax(logits, dim=1)\n",
    "        # sample from the distribution\n",
    "        ix = torch.multinomial(probs, num_samples=1, generator=g).item()\n",
    "        # shift the context window and track the samples\n",
    "        context = context[1:] + [ix]\n",
    "        out.append(ix)\n",
    "        # if we sample the special '.' token, break\n",
    "        if ix == 0:\n",
    "            break\n",
    "    \n",
    "    print(''.join(itos[i] for i in out)) # decode and print the generated word"
   ]
  },
  {
   "cell_type": "code",
   "execution_count": null,
   "metadata": {},
   "outputs": [],
   "source": []
  },
  {
   "cell_type": "code",
   "execution_count": null,
   "metadata": {},
   "outputs": [],
   "source": []
  }
 ],
 "metadata": {
  "kernelspec": {
   "display_name": "Python 3 (ipykernel)",
   "language": "python",
   "name": "python3"
  },
  "language_info": {
   "codemirror_mode": {
    "name": "ipython",
    "version": 3
   },
   "file_extension": ".py",
   "mimetype": "text/x-python",
   "name": "python",
   "nbconvert_exporter": "python",
   "pygments_lexer": "ipython3",
   "version": "3.11.8"
  }
 },
 "nbformat": 4,
 "nbformat_minor": 4
}
