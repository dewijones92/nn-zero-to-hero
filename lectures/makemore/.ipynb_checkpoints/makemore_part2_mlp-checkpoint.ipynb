{
 "cells": [
  {
   "cell_type": "code",
   "execution_count": 1,
   "metadata": {},
   "outputs": [],
   "source": [
    "import torch\n",
    "import torch.nn.functional as F\n",
    "import matplotlib.pyplot as plt # for making figures\n",
    "%matplotlib inline"
   ]
  },
  {
   "cell_type": "code",
   "execution_count": 2,
   "metadata": {},
   "outputs": [
    {
     "data": {
      "text/plain": [
       "['emma', 'olivia', 'ava', 'isabella', 'sophia', 'charlotte', 'mia', 'amelia']"
      ]
     },
     "execution_count": 2,
     "metadata": {},
     "output_type": "execute_result"
    }
   ],
   "source": [
    "# read in all the words\n",
    "words = open('names.txt', 'r').read().splitlines()\n",
    "words[:8]"
   ]
  },
  {
   "cell_type": "code",
   "execution_count": 3,
   "metadata": {},
   "outputs": [
    {
     "data": {
      "text/plain": [
       "32033"
      ]
     },
     "execution_count": 3,
     "metadata": {},
     "output_type": "execute_result"
    }
   ],
   "source": [
    "len(words)"
   ]
  },
  {
   "cell_type": "code",
   "execution_count": 4,
   "metadata": {},
   "outputs": [
    {
     "name": "stdout",
     "output_type": "stream",
     "text": [
      "{1: 'a', 2: 'b', 3: 'c', 4: 'd', 5: 'e', 6: 'f', 7: 'g', 8: 'h', 9: 'i', 10: 'j', 11: 'k', 12: 'l', 13: 'm', 14: 'n', 15: 'o', 16: 'p', 17: 'q', 18: 'r', 19: 's', 20: 't', 21: 'u', 22: 'v', 23: 'w', 24: 'x', 25: 'y', 26: 'z', 0: '.'}\n"
     ]
    }
   ],
   "source": [
    "# build the vocabulary of characters and mappings to/from integers\n",
    "chars = sorted(list(set(''.join(words))))\n",
    "stoi = {s:i+1 for i,s in enumerate(chars)}\n",
    "stoi['.'] = 0\n",
    "itos = {i:s for s,i in stoi.items()}\n",
    "vocab_size = len(itos)\n",
    "print(itos)"
   ]
  },
  {
   "cell_type": "code",
   "execution_count": 5,
   "metadata": {},
   "outputs": [
    {
     "name": "stdout",
     "output_type": "stream",
     "text": [
      "torch.Size([182625, 3]) torch.Size([182625])\n",
      "torch.Size([22655, 3]) torch.Size([22655])\n",
      "torch.Size([22866, 3]) torch.Size([22866])\n"
     ]
    }
   ],
   "source": [
    "# build the dataset\n",
    "block_size = 3 # context length: how many characters do we take to predict the next one?\n",
    "\n",
    "def build_dataset(words):\n",
    "    X, Y = [], []\n",
    "    \n",
    "    for w in words:\n",
    "        context = [0] * block_size\n",
    "        for ch in w + '.':\n",
    "            ix = stoi[ch]\n",
    "            X.append(context)\n",
    "            Y.append(ix)\n",
    "            context = context[1:] + [ix] # crop and append\n",
    "    \n",
    "    X = torch.tensor(X)\n",
    "    Y = torch.tensor(Y)\n",
    "    print(X.shape, Y.shape)\n",
    "    return X, Y\n",
    "\n",
    "import random\n",
    "random.seed(42)\n",
    "random.shuffle(words)\n",
    "n1 = int(0.8*len(words))\n",
    "n2 = int(0.9*len(words))\n",
    "\n",
    "Xtr, Ytr = build_dataset(words[:n1])    # 80%\n",
    "Xdev, Ydev = build_dataset(words[n1:n2])  # 10%\n",
    "Xte, Yte = build_dataset(words[n2:])    # 10%"
   ]
  },
  {
   "cell_type": "code",
   "execution_count": 6,
   "metadata": {},
   "outputs": [],
   "source": [
    "n_embd = 10\n",
    "n_hidden = 200\n",
    "\n",
    "g = torch.Generator().manual_seed(2147483647)\n",
    "C = torch.randn((vocab_size, n_embd), generator=g)\n",
    "W1 = torch.randn((n_embd * block_size, n_hidden), generator=g) * 0.2\n",
    "b1 = torch.randn(n_hidden, generator=g) * 0.01\n",
    "W2 = torch.randn((n_hidden, vocab_size), generator=g) * 0.01\n",
    "b2 = torch.randn(vocab_size, generator=g) * 0\n",
    "\n",
    "parameters = [C, W1, b1, W2, b2]\n",
    "for p in parameters:\n",
    "    p.requires_grad = True"
   ]
  },
  {
   "cell_type": "code",
   "execution_count": 7,
   "metadata": {},
   "outputs": [
    {
     "name": "stdout",
     "output_type": "stream",
     "text": [
      "      0/ 200000: 3.3135\n",
      "  10000/ 200000: 2.1648\n",
      "  20000/ 200000: 2.3061\n",
      "  30000/ 200000: 2.4541\n",
      "  40000/ 200000: 1.9787\n",
      "  50000/ 200000: 2.2930\n",
      "  60000/ 200000: 2.4232\n",
      "  70000/ 200000: 2.0680\n",
      "  80000/ 200000: 2.3095\n",
      "  90000/ 200000: 2.1207\n",
      " 100000/ 200000: 1.8269\n",
      " 110000/ 200000: 2.2045\n",
      " 120000/ 200000: 1.9797\n",
      " 130000/ 200000: 2.3946\n",
      " 140000/ 200000: 2.1000\n",
      " 150000/ 200000: 2.1948\n",
      " 160000/ 200000: 1.8619\n",
      " 170000/ 200000: 1.7809\n",
      " 180000/ 200000: 1.9673\n",
      " 190000/ 200000: 1.8295\n"
     ]
    }
   ],
   "source": [
    "# same optimization as last time\n",
    "max_steps = 200000\n",
    "batch_size = 32\n",
    "context = torch.zeros((batch_size, block_size), dtype=torch.long)\n",
    "\n",
    "lossi = []\n",
    "\n",
    "for i in range(max_steps):\n",
    "\n",
    "    # minibatch construct\n",
    "    ix = torch.randint(0, Xtr.shape[0], (batch_size,), generator=g)\n",
    "    Xb, Yb = Xtr[ix], Ytr[ix] # batch X,Y\n",
    "\n",
    "    # forward pass\n",
    "    emb = C[Xb] # embed the characters into vectors\n",
    "    embcat = emb.view(emb.shape[0], -1) # concatenate the vectors\n",
    "    hpreact = embcat @ W1 + b1 # hidden layer pre-activation\n",
    "    h = torch.tanh(hpreact) # apply activation function\n",
    "    logits = h @ W2 + b2 # output layer\n",
    "    loss = F.cross_entropy(logits, Yb) # loss function\n",
    "    \n",
    "    # backward pass\n",
    "    for p in parameters:\n",
    "        p.grad = None\n",
    "    loss.backward()\n",
    "\n",
    "    # update\n",
    "    lr = 0.1 if i < 100000 else 0.01 # step learning rate decay\n",
    "    for p in parameters:\n",
    "        p.data += -lr * p.grad\n",
    "\n",
    "    # track stats\n",
    "    if i % 10000 == 0: # print every once in a while\n",
    "        print(f'{i:7d}/{max_steps:7d}: {loss.item():.4f}')\n",
    "    lossi.append(loss.log10().item())\n",
    "  #  break;"
   ]
  },
  {
   "cell_type": "code",
   "execution_count": 8,
   "metadata": {},
   "outputs": [
    {
     "data": {
      "text/plain": [
       "torch.Size([32, 200])"
      ]
     },
     "execution_count": 8,
     "metadata": {},
     "output_type": "execute_result"
    }
   ],
   "source": [
    "h.shape"
   ]
  },
  {
   "cell_type": "code",
   "execution_count": 9,
   "metadata": {},
   "outputs": [
    {
     "data": {
      "text/plain": [
       "<matplotlib.image.AxesImage at 0x7ff4cf77bd50>"
      ]
     },
     "execution_count": 9,
     "metadata": {},
     "output_type": "execute_result"
    },
    {
     "data": {
      "image/png": "[encoded data removed]",
      "text/plain": [
       "<Figure size 2000x1000 with 1 Axes>"
      ]
     },
     "metadata": {},
     "output_type": "display_data"
    }
   ],
   "source": [
    "plt.figure(figsize=(20,10))\n",
    "plt.imshow(h.abs() > 0.99, cmap='gray', interpolation='nearest')"
   ]
  },
  {
   "cell_type": "code",
   "execution_count": 10,
   "metadata": {},
   "outputs": [
    {
     "data": {
      "image/png": "[encoded data removed]",
      "text/plain": [
       "<Figure size 640x480 with 1 Axes>"
      ]
     },
     "metadata": {},
     "output_type": "display_data"
    }
   ],
   "source": [
    "plt.hist(h.view(-1).tolist(), 50);"
   ]
  },
  {
   "cell_type": "code",
   "execution_count": 11,
   "metadata": {},
   "outputs": [
    {
     "data": {
      "image/png": "[encoded data removed]",
      "text/plain": [
       "<Figure size 640x480 with 1 Axes>"
      ]
     },
     "metadata": {},
     "output_type": "display_data"
    }
   ],
   "source": [
    "    plt.hist(hpreact.view(-1).tolist(), 50);"
   ]
  },
  {
   "cell_type": "code",
   "execution_count": 12,
   "metadata": {},
   "outputs": [
    {
     "data": {
      "text/plain": [
       "tensor([[-2.6747e+00,  2.1230e+00, -6.9569e-01, -1.7963e-01,  2.5628e-01,\n",
       "          2.4494e+00, -1.8890e+00, -2.4445e+00, -1.0200e+00,  2.9168e+00,\n",
       "         -2.3774e+00, -5.8072e-01,  3.0092e+00,  1.9834e+00,  3.8758e+00,\n",
       "          1.2065e+00, -8.3374e-01, -3.8638e+00,  1.6995e+00,  1.6315e+00,\n",
       "          5.5632e-01, -2.8112e+00,  3.7352e-01, -2.5029e+00, -2.7555e+00,\n",
       "          2.9825e+00, -8.6130e-02],\n",
       "        [ 2.7299e+00,  2.6732e+00, -3.5971e+00,  1.9193e+00,  2.2266e+00,\n",
       "          1.7254e+00, -1.6294e+00, -1.6319e+00, -6.2004e-01,  1.0852e+00,\n",
       "         -8.9845e-01,  4.1658e-01,  3.3058e+00, -7.3184e-01,  3.6880e+00,\n",
       "          1.4711e+00, -3.9989e+00, -3.2552e+00, -1.0630e+00,  2.7784e+00,\n",
       "          1.9423e+00, -1.6868e+00, -2.0384e+00, -4.1113e+00,  6.3236e-01,\n",
       "          1.6083e-01, -5.7381e-01],\n",
       "        [ 5.4921e+00,  3.8516e+00, -3.5281e+00,  2.2896e+00,  3.9996e+00,\n",
       "          2.0150e+00, -3.4472e+00,  1.5171e+00, -1.8729e+00,  4.2547e+00,\n",
       "         -1.0565e+00,  2.8746e-01, -1.5697e+00, -1.8956e+00,  1.1119e+00,\n",
       "         -2.3982e-02, -4.5603e+00, -2.4817e+00, -3.5383e+00,  1.4641e+00,\n",
       "          2.3053e+00,  5.9809e-01, -4.0984e-02, -4.4721e+00, -1.9571e+00,\n",
       "          2.7776e+00, -1.1711e+00],\n",
       "        [-1.0226e+00,  6.3805e+00, -1.9456e+00, -5.7705e-01, -6.2480e-01,\n",
       "          5.1708e+00, -5.0186e+00, -2.7244e+00,  2.6786e+00,  3.5395e+00,\n",
       "         -4.5919e-01,  3.0866e-01,  3.9395e-02, -5.6951e-01, -1.0076e+00,\n",
       "          5.5802e+00, -3.9286e+00, -4.4128e+00,  1.4628e+00, -1.8108e+00,\n",
       "         -1.2387e+00,  4.0468e+00, -9.1017e-01, -5.4554e-01, -2.7374e+00,\n",
       "          1.6562e+00, -1.5089e+00],\n",
       "        [-6.7417e-01,  7.1691e+00, -7.4234e-01,  3.3498e+00, -2.6763e+00,\n",
       "          5.4910e+00, -2.6182e+00, -5.0919e+00, -1.4270e+00,  5.5393e+00,\n",
       "         -9.3778e-01, -1.8498e+00, -2.4704e-01, -3.0416e-01, -5.2400e-01,\n",
       "          5.1439e+00, -3.0181e+00, -5.6837e+00,  1.2716e+00, -1.4437e+00,\n",
       "         -2.5712e+00,  4.4182e+00, -1.1895e+00, -1.4984e+00, -4.7308e+00,\n",
       "          4.5921e+00, -6.6917e-01],\n",
       "        [ 3.5211e+00,  6.0502e-01, -2.2525e+00, -2.2662e+00,  3.7678e-01,\n",
       "          1.5132e+00, -2.4250e+00, -9.8793e-01, -2.7728e+00, -2.0103e+00,\n",
       "         -1.4948e+00,  7.0359e-01,  2.2041e+00,  4.8557e-01,  5.1172e+00,\n",
       "          2.8865e+00, -9.1644e-02, -2.1604e+00,  2.8205e+00,  9.9564e-01,\n",
       "          2.4848e-01, -1.6877e+00, -2.1845e+00,  1.3436e-01,  9.0300e-01,\n",
       "          5.1928e-01, -2.7718e+00],\n",
       "        [ 1.9265e+00,  3.7050e+00,  1.0055e-01,  3.8866e-01,  5.1157e-01,\n",
       "          1.9928e+00, -2.5282e+00, -1.7735e+00, -3.2190e+00,  2.0190e+00,\n",
       "         -1.0135e+00,  6.9695e-01,  2.7040e+00, -4.1615e-02,  1.1235e-01,\n",
       "          8.3949e-01, -2.7090e+00, -2.2910e+00,  1.8049e+00,  1.7950e+00,\n",
       "          7.5734e-01,  9.2951e-01,  5.1815e-01, -4.5348e+00, -2.0777e+00,\n",
       "         -2.4831e-02,  3.7476e-01],\n",
       "        [-4.9913e+00,  2.0815e+00,  6.6792e-01,  6.1339e-01,  9.8203e-01,\n",
       "          8.9940e-01, -6.3216e-01, -4.1254e-02,  9.9526e-02, -2.1164e-02,\n",
       "          1.3144e+00,  1.4494e+00,  7.3279e-01,  1.3361e+00,  5.2213e-01,\n",
       "         -4.2784e-01, -2.9642e-01, -1.9130e+00,  8.6440e-01,  1.2007e+00,\n",
       "          5.8189e-01, -2.2836e+00, -8.1313e-01, -8.4425e-01, -1.6075e+00,\n",
       "         -2.8471e-01,  3.0668e-01],\n",
       "        [-5.3178e+00, -8.0816e-01, -3.7876e-01, -5.6956e-01,  9.6742e-01,\n",
       "          3.5639e-01, -7.1917e-01, -2.5971e+00,  9.8634e-01,  1.5407e+00,\n",
       "         -1.0989e-01,  1.1071e+00,  1.0683e+00,  7.0395e-01,  8.1453e-01,\n",
       "         -7.0506e-01, -1.3089e+00, -1.9926e+00,  1.2988e+00,  1.8226e+00,\n",
       "          1.6187e+00, -6.5536e-01,  1.4844e+00, -7.2396e-01, -1.0657e+00,\n",
       "          2.0091e+00,  1.1234e+00],\n",
       "        [-4.9913e+00,  2.0815e+00,  6.6792e-01,  6.1339e-01,  9.8203e-01,\n",
       "          8.9940e-01, -6.3216e-01, -4.1254e-02,  9.9526e-02, -2.1164e-02,\n",
       "          1.3144e+00,  1.4494e+00,  7.3279e-01,  1.3361e+00,  5.2213e-01,\n",
       "         -4.2784e-01, -2.9642e-01, -1.9130e+00,  8.6440e-01,  1.2007e+00,\n",
       "          5.8189e-01, -2.2836e+00, -8.1313e-01, -8.4425e-01, -1.6075e+00,\n",
       "         -2.8471e-01,  3.0668e-01],\n",
       "        [ 4.6126e+00,  1.8554e+00, -4.1698e-01, -2.8202e+00, -4.6614e-01,\n",
       "          3.0305e+00, -2.1934e+00, -2.3247e+00,  4.2887e-01,  1.3847e+00,\n",
       "         -2.2388e+00, -2.8667e+00,  4.4238e+00,  6.9739e-01,  4.6391e+00,\n",
       "         -1.0070e+00, -1.2676e+00, -2.5671e+00,  4.0223e+00,  1.1760e+00,\n",
       "          2.5727e+00, -1.7564e+00, -4.6634e-01, -5.5469e+00, -3.8897e+00,\n",
       "          1.9608e+00,  1.0367e-01],\n",
       "        [ 5.3443e+00,  4.5278e+00, -2.2165e+00,  1.3324e+00,  2.4414e+00,\n",
       "          3.8839e+00, -4.2222e+00,  3.2967e-01, -5.2754e-01,  3.0605e+00,\n",
       "         -2.5454e+00, -9.8692e-01, -2.2528e-01, -1.4266e+00,  3.9282e+00,\n",
       "          2.9957e+00, -5.3519e+00, -2.1560e+00, -1.5728e+00,  3.2918e-02,\n",
       "          1.4054e+00, -1.1254e+00, -3.5610e+00, -5.1973e+00, -1.9585e+00,\n",
       "          2.8264e+00,  1.3035e+00],\n",
       "        [ 4.2039e+00,  3.7650e+00, -1.2360e+00,  1.5701e+00,  1.3513e+00,\n",
       "          2.8506e+00, -1.2219e+00,  1.7532e+00, -9.3021e-01,  2.5474e+00,\n",
       "         -1.8805e+00,  6.0023e-01,  1.4149e+00, -1.5148e+00,  1.8505e+00,\n",
       "          1.6989e+00, -2.8874e+00, -3.5200e+00, -2.6583e+00,  5.1720e-01,\n",
       "          9.4942e-01, -1.7277e+00, -2.1748e+00, -2.0745e+00, -3.7828e+00,\n",
       "          1.1675e+00,  2.3135e-01],\n",
       "        [-4.9913e+00,  2.0815e+00,  6.6792e-01,  6.1339e-01,  9.8203e-01,\n",
       "          8.9940e-01, -6.3216e-01, -4.1254e-02,  9.9526e-02, -2.1164e-02,\n",
       "          1.3144e+00,  1.4494e+00,  7.3279e-01,  1.3361e+00,  5.2213e-01,\n",
       "         -4.2784e-01, -2.9642e-01, -1.9130e+00,  8.6440e-01,  1.2007e+00,\n",
       "          5.8189e-01, -2.2836e+00, -8.1313e-01, -8.4425e-01, -1.6075e+00,\n",
       "         -2.8471e-01,  3.0668e-01],\n",
       "        [-7.0950e-01,  2.8165e+00,  7.7642e-01, -7.8110e-01,  7.7663e-01,\n",
       "          3.4921e+00, -6.2200e-01, -1.9634e+00, -7.8716e-01,  2.8121e+00,\n",
       "         -2.7630e+00, -1.4821e+00,  2.5320e+00,  3.0518e-01, -9.6649e-01,\n",
       "          1.3137e+00,  2.5924e-01, -3.0909e+00, -5.6212e-01, -4.7580e-02,\n",
       "         -1.1271e-01,  4.3645e-01,  4.8110e-01, -9.7216e-01, -3.0869e+00,\n",
       "          2.5381e+00, -6.0839e-01],\n",
       "        [ 5.6397e+00, -1.1837e-01,  6.2611e-01,  1.5217e+00,  5.1361e-02,\n",
       "          8.9997e-01, -2.1111e+00, -2.1572e+00,  2.7696e+00, -4.2035e-01,\n",
       "         -4.8156e-01,  4.1960e-01,  1.3957e+00,  1.3322e-01,  1.7379e+00,\n",
       "         -9.2974e-01, -1.8374e+00, -2.2527e+00,  8.0739e-01,  2.3112e+00,\n",
       "          1.7134e+00, -2.0023e+00,  1.0448e+00, -3.8553e+00, -2.1699e+00,\n",
       "          6.4613e-01, -2.6586e+00],\n",
       "        [ 5.7197e+00, -1.4630e+00,  9.0917e-01, -4.7198e-01,  1.6700e+00,\n",
       "          5.2326e-01, -3.0051e+00, -1.3373e+00,  3.3263e+00,  7.9367e-01,\n",
       "         -8.1305e-01,  5.3127e-01,  2.6290e+00,  1.0668e+00,  1.8473e+00,\n",
       "         -6.5232e-01, -3.4422e+00, -2.8937e+00,  1.2963e+00,  1.4055e+00,\n",
       "          6.6713e-01, -2.5207e+00,  1.1273e+00, -3.7608e+00, -1.9854e+00,\n",
       "          8.6566e-01, -1.5849e+00],\n",
       "        [-6.7417e-01,  7.1691e+00, -7.4234e-01,  3.3498e+00, -2.6763e+00,\n",
       "          5.4910e+00, -2.6182e+00, -5.0919e+00, -1.4270e+00,  5.5393e+00,\n",
       "         -9.3778e-01, -1.8498e+00, -2.4704e-01, -3.0416e-01, -5.2400e-01,\n",
       "          5.1439e+00, -3.0181e+00, -5.6837e+00,  1.2716e+00, -1.4437e+00,\n",
       "         -2.5712e+00,  4.4182e+00, -1.1895e+00, -1.4984e+00, -4.7308e+00,\n",
       "          4.5921e+00, -6.6917e-01],\n",
       "        [-4.8245e+00,  4.3358e+00, -2.2264e+00,  1.4538e+00, -2.6822e+00,\n",
       "          3.2156e+00, -4.2618e+00, -3.3341e+00,  3.6175e+00,  3.0505e+00,\n",
       "         -1.9286e+00,  1.6829e+00,  7.2384e-01, -1.9216e-01, -1.3189e+00,\n",
       "          2.9700e+00,  7.5335e-01, -3.1374e+00,  5.6548e-01, -1.2614e+00,\n",
       "          2.7003e+00,  2.2592e+00, -2.5119e-01,  4.2260e-01, -2.7207e+00,\n",
       "          1.8936e+00, -1.5394e+00],\n",
       "        [-3.0311e+00,  6.3843e+00, -1.5950e+00, -1.8119e+00, -4.6685e-01,\n",
       "          6.3609e+00, -2.3322e+00, -2.9945e+00, -9.3568e-01,  5.8221e+00,\n",
       "         -7.3882e-01, -3.8954e+00,  1.9907e+00, -5.5380e-02, -1.9992e+00,\n",
       "          5.9315e+00, -4.2599e+00, -4.0373e+00, -1.1755e+00, -4.7579e-01,\n",
       "         -2.9102e+00,  5.3107e+00,  1.2099e+00, -7.1398e-01, -5.5644e+00,\n",
       "          5.3486e+00,  1.1142e-02],\n",
       "        [ 3.9623e+00,  5.8237e+00, -2.8675e-01, -1.6139e+00, -9.2836e-01,\n",
       "          5.1456e+00, -5.8186e+00, -3.3839e+00, -8.5100e-01,  4.1804e+00,\n",
       "         -2.9716e+00,  2.2900e-01,  2.6395e+00,  1.2202e-01,  3.6355e-01,\n",
       "          3.8242e+00, -1.8444e+00, -5.3100e+00,  5.9620e-01, -1.2481e-01,\n",
       "          2.5466e+00,  3.2756e+00, -2.5312e+00, -3.7339e+00, -1.9712e+00,\n",
       "          2.9864e+00, -3.4825e+00],\n",
       "        [-4.9913e+00,  2.0815e+00,  6.6792e-01,  6.1339e-01,  9.8203e-01,\n",
       "          8.9940e-01, -6.3216e-01, -4.1254e-02,  9.9526e-02, -2.1164e-02,\n",
       "          1.3144e+00,  1.4494e+00,  7.3279e-01,  1.3361e+00,  5.2213e-01,\n",
       "         -4.2784e-01, -2.9642e-01, -1.9130e+00,  8.6440e-01,  1.2007e+00,\n",
       "          5.8189e-01, -2.2836e+00, -8.1313e-01, -8.4425e-01, -1.6075e+00,\n",
       "         -2.8471e-01,  3.0668e-01],\n",
       "        [-4.9913e+00,  2.0815e+00,  6.6792e-01,  6.1339e-01,  9.8203e-01,\n",
       "          8.9940e-01, -6.3216e-01, -4.1254e-02,  9.9526e-02, -2.1164e-02,\n",
       "          1.3144e+00,  1.4494e+00,  7.3279e-01,  1.3361e+00,  5.2213e-01,\n",
       "         -4.2784e-01, -2.9642e-01, -1.9130e+00,  8.6440e-01,  1.2007e+00,\n",
       "          5.8189e-01, -2.2836e+00, -8.1313e-01, -8.4425e-01, -1.6075e+00,\n",
       "         -2.8471e-01,  3.0668e-01],\n",
       "        [-5.3178e+00, -8.0816e-01, -3.7876e-01, -5.6956e-01,  9.6742e-01,\n",
       "          3.5639e-01, -7.1917e-01, -2.5971e+00,  9.8634e-01,  1.5407e+00,\n",
       "         -1.0989e-01,  1.1071e+00,  1.0683e+00,  7.0395e-01,  8.1453e-01,\n",
       "         -7.0506e-01, -1.3089e+00, -1.9926e+00,  1.2988e+00,  1.8226e+00,\n",
       "          1.6187e+00, -6.5536e-01,  1.4844e+00, -7.2396e-01, -1.0657e+00,\n",
       "          2.0091e+00,  1.1234e+00],\n",
       "        [ 5.0033e+00,  6.2457e+00, -2.4921e+00, -6.7007e-01, -1.9691e+00,\n",
       "          4.9930e+00, -2.1872e+00, -6.4762e-01, -2.8749e+00,  4.8161e+00,\n",
       "          1.8964e-01, -7.7673e-01,  1.3651e+00, -2.5567e+00, -4.9123e-02,\n",
       "          2.9314e+00, -4.6825e+00, -4.2914e+00,  7.9264e-01,  3.1837e-01,\n",
       "         -1.9861e+00,  9.5465e-01, -1.1028e+00, -1.8873e+00, -3.3891e+00,\n",
       "          4.0275e+00, -1.4644e-01],\n",
       "        [ 7.7145e-01,  6.2695e+00,  5.4323e-02,  3.0123e-01, -6.9824e-02,\n",
       "          6.2745e+00, -2.2747e+00, -2.5685e+00, -3.2517e+00,  5.7541e+00,\n",
       "         -3.0336e+00,  5.4393e-01,  1.5074e+00, -2.1387e+00, -7.9749e-01,\n",
       "          4.4323e+00, -2.0111e+00, -3.0685e+00, -6.5990e-01,  4.3408e-01,\n",
       "         -1.7502e+00,  1.3479e+00,  1.1130e-01, -4.7857e+00, -3.4646e+00,\n",
       "          4.8040e+00, -2.9515e+00],\n",
       "        [ 2.8564e+00,  3.2787e+00, -7.9530e-01, -1.0729e+00,  6.6294e-01,\n",
       "          4.2873e+00, -2.4681e+00, -1.9167e+00, -5.0198e-01,  5.0408e-01,\n",
       "         -1.0238e+00, -1.1585e+00,  1.0770e+00, -8.9275e-02,  2.2319e+00,\n",
       "          2.0309e+00, -1.4951e+00, -8.1520e-01,  3.8713e-01,  4.3247e-01,\n",
       "         -1.3769e+00,  5.8395e-01,  9.6719e-02, -3.7201e+00, -2.1252e+00,\n",
       "          2.8678e+00, -2.0458e+00],\n",
       "        [-3.1504e+00, -5.2374e-01,  1.2727e-02,  1.6440e+00,  8.4741e-01,\n",
       "          8.2259e-01, -1.4773e+00, -1.7431e+00,  1.4457e+00,  1.5838e+00,\n",
       "         -2.5687e+00,  9.9856e-01,  9.1206e-01,  1.9780e+00,  1.9769e+00,\n",
       "         -2.8720e+00, -2.0059e+00, -1.1315e-01,  1.0586e+00,  1.4059e+00,\n",
       "         -5.3790e-01, -3.2537e+00,  7.1077e-01, -1.7052e+00,  1.0394e+00,\n",
       "          2.7206e+00,  9.8116e-01],\n",
       "        [ 5.4308e+00,  5.6319e+00, -1.6366e+00,  1.5759e+00, -1.2978e+00,\n",
       "          5.7758e+00, -5.7898e+00, -5.4888e+00,  7.7055e-01,  4.0336e+00,\n",
       "         -4.2791e+00,  1.0183e+00,  1.3086e+00, -5.2901e-01, -2.1695e+00,\n",
       "          6.8663e+00, -2.2201e+00, -5.0597e-01,  1.3703e+00,  1.3739e-01,\n",
       "          7.3411e-01,  3.1629e-01, -3.8339e+00, -5.6429e+00, -8.2451e-01,\n",
       "          3.0079e+00, -3.8176e+00],\n",
       "        [-6.4124e+00,  9.0329e-01,  9.8460e-01, -6.9290e-01,  1.9504e+00,\n",
       "         -5.1776e-02, -1.1458e+00, -1.6308e+00,  6.7190e-02,  1.1562e+00,\n",
       "         -9.8891e-01,  1.8069e-01,  2.1007e+00,  1.7033e+00,  2.2893e+00,\n",
       "         -1.9201e+00, -1.0157e+00, -1.7052e+00,  2.1614e+00,  1.2282e+00,\n",
       "         -2.7607e-01,  8.8593e-01,  1.2154e+00, -2.1071e+00, -6.6805e-01,\n",
       "          1.1650e+00,  8.7537e-01],\n",
       "        [ 2.7504e+00,  5.7810e+00, -3.1584e+00, -1.6915e+00, -6.9925e-04,\n",
       "          4.5576e+00, -3.7466e+00, -3.9226e+00,  1.8143e+00,  4.5610e+00,\n",
       "         -1.9665e+00, -6.5703e-02,  3.1134e+00, -8.9132e-01,  4.8892e-01,\n",
       "          4.3728e+00, -1.2806e+00, -2.8927e+00, -1.9709e-01,  9.4739e-01,\n",
       "         -2.0685e+00,  2.6435e+00, -4.1062e+00, -2.4221e+00, -2.9957e+00,\n",
       "          3.2256e+00, -1.9374e+00],\n",
       "        [ 2.7329e+00,  1.5569e+00, -1.6071e+00, -1.2511e+00,  3.0842e+00,\n",
       "          1.4630e+00, -1.8522e+00,  2.0317e+00, -7.3282e-01, -4.0831e-01,\n",
       "          8.8911e-02, -1.7961e+00,  4.6678e+00,  9.3367e-01,  3.0242e+00,\n",
       "         -1.8977e+00, -5.6124e+00, -3.6152e+00,  3.8354e+00,  2.4721e+00,\n",
       "         -6.0699e-01, -1.3025e+00, -6.2671e-01, -3.8471e+00, -1.9133e+00,\n",
       "          4.8907e-01,  1.2719e+00]], grad_fn=<AddBackward0>)"
      ]
     },
     "execution_count": 12,
     "metadata": {},
     "output_type": "execute_result"
    }
   ],
   "source": [
    "logits"
   ]
  },
  {
   "cell_type": "code",
   "execution_count": 13,
   "metadata": {},
   "outputs": [
    {
     "data": {
      "text/plain": [
       "(tensor([3.1741e-04, 9.4620e-01, 6.3754e-03, 4.7108e-02]), tensor(5.0553))"
      ]
     },
     "execution_count": 13,
     "metadata": {},
     "output_type": "execute_result"
    }
   ],
   "source": [
    "# 4 dimmensional example of the issue\n",
    "logits = torch.tensor([-3.0,5.0,0.0,2.0])\n",
    "probs = torch.softmax(logits, dim=0)\n",
    "loss = -probs[2].log()\n",
    "\n",
    "probs, loss"
   ]
  },
  {
   "cell_type": "code",
   "execution_count": 14,
   "metadata": {},
   "outputs": [
    {
     "data": {
      "text/plain": [
       "[<matplotlib.lines.Line2D at 0x7ff4ce31a2d0>]"
      ]
     },
     "execution_count": 14,
     "metadata": {},
     "output_type": "execute_result"
    },
    {
     "data": {
      "image/png": "[encoded data removed]",
      "text/plain": [
       "<Figure size 640x480 with 1 Axes>"
      ]
     },
     "metadata": {},
     "output_type": "display_data"
    }
   ],
   "source": [
    "plt.plot(lossi)"
   ]
  },
  {
   "cell_type": "code",
   "execution_count": 15,
   "metadata": {
    "scrolled": true
   },
   "outputs": [
    {
     "name": "stdout",
     "output_type": "stream",
     "text": [
      "train 2.0355963706970215\n",
      "val 2.1026782989501953\n"
     ]
    }
   ],
   "source": [
    "@torch.no_grad() # this decorator disables gradient tracking\n",
    "def split_loss(split):\n",
    "    x,y = {\n",
    "        'train': (Xtr, Ytr),\n",
    "        'val': (Xdev, Ydev),\n",
    "        'test': (Xte, Yte),\n",
    "    }[split]\n",
    "    emb = C[x] # (N, block_size, n_embd)\n",
    "    embcat = emb.view(emb.shape[0], -1) # concat into (N, block_size * n_embd)\n",
    "    h = torch.tanh(embcat @ W1 + b1) # (N, n_hidden)\n",
    "    logits = h @ W2 + b2 # (N, vocab_size)\n",
    "    loss = F.cross_entropy(logits, y)\n",
    "    print(split, loss.item())\n",
    "\n",
    "split_loss('train')\n",
    "split_loss('val')"
   ]
  },
  {
   "cell_type": "code",
   "execution_count": 16,
   "metadata": {},
   "outputs": [
    {
     "name": "stdout",
     "output_type": "stream",
     "text": [
      "mora.\n",
      "mayah.\n",
      "see.\n",
      "mad.\n",
      "ryll.\n",
      "renvestendraegusteredielin.\n",
      "shi.\n",
      "jen.\n",
      "edeiseananar.\n",
      "kayzion.\n",
      "kamin.\n",
      "shubergianaiya.\n",
      "kinde.\n",
      "jennex.\n",
      "teron.\n",
      "ububynder.\n",
      "yarue.\n",
      "els.\n",
      "kayshaykella.\n",
      "hal.\n"
     ]
    }
   ],
   "source": [
    "# sample from the model\n",
    "g = torch.Generator().manual_seed(2147483647 + 10)\n",
    "\n",
    "for _ in range(20):\n",
    "    out = []\n",
    "    context = [0] * block_size # initialize with all ...\n",
    "    while True:\n",
    "        # forward pass the neural net\n",
    "        emb = C[context]  # (batch_size, block_size, n_embd)\n",
    "        h = torch.tanh(emb.view(1, -1) @ W1 + b1)\n",
    "        logits = h @ W2 + b2\n",
    "        probs = F.softmax(logits, dim=1)\n",
    "        # sample from the distribution\n",
    "        ix = torch.multinomial(probs, num_samples=1, generator=g).item()\n",
    "        # shift the context window and track the samples\n",
    "        context = context[1:] + [ix]\n",
    "        out.append(ix)\n",
    "        # if we sample the special '.' token, break\n",
    "        if ix == 0:\n",
    "            break\n",
    "    \n",
    "    print(''.join(itos[i] for i in out)) # decode and print the generated word"
   ]
  }
 ],
 "metadata": {
  "kernelspec": {
   "display_name": "Python 3 (ipykernel)",
   "language": "python",
   "name": "python3"
  },
  "language_info": {
   "codemirror_mode": {
    "name": "ipython",
    "version": 3
   },
   "file_extension": ".py",
   "mimetype": "text/x-python",
   "name": "python",
   "nbconvert_exporter": "python",
   "pygments_lexer": "ipython3",
   "version": "3.11.8"
  }
 },
 "nbformat": 4,
 "nbformat_minor": 4
}
