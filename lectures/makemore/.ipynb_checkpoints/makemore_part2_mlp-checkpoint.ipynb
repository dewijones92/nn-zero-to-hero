{
 "cells": [
  {
   "cell_type": "code",
   "execution_count": 1,
   "metadata": {},
   "outputs": [],
   "source": [
    "import torch\n",
    "import torch.nn.functional as F\n",
    "import matplotlib.pyplot as plt # for making figures\n",
    "%matplotlib inline"
   ]
  },
  {
   "cell_type": "code",
   "execution_count": 2,
   "metadata": {},
   "outputs": [
    {
     "data": {
      "text/plain": [
       "['emma', 'olivia', 'ava', 'isabella', 'sophia', 'charlotte', 'mia', 'amelia']"
      ]
     },
     "execution_count": 2,
     "metadata": {},
     "output_type": "execute_result"
    }
   ],
   "source": [
    "# read in all the words\n",
    "words = open('names.txt', 'r').read().splitlines()\n",
    "words[:8]"
   ]
  },
  {
   "cell_type": "code",
   "execution_count": 3,
   "metadata": {},
   "outputs": [
    {
     "data": {
      "text/plain": [
       "32033"
      ]
     },
     "execution_count": 3,
     "metadata": {},
     "output_type": "execute_result"
    }
   ],
   "source": [
    "len(words)"
   ]
  },
  {
   "cell_type": "code",
   "execution_count": 4,
   "metadata": {},
   "outputs": [
    {
     "name": "stdout",
     "output_type": "stream",
     "text": [
      "{1: 'a', 2: 'b', 3: 'c', 4: 'd', 5: 'e', 6: 'f', 7: 'g', 8: 'h', 9: 'i', 10: 'j', 11: 'k', 12: 'l', 13: 'm', 14: 'n', 15: 'o', 16: 'p', 17: 'q', 18: 'r', 19: 's', 20: 't', 21: 'u', 22: 'v', 23: 'w', 24: 'x', 25: 'y', 26: 'z', 0: '.'}\n"
     ]
    }
   ],
   "source": [
    "# build the vocabulary of characters and mappings to/from integers\n",
    "chars = sorted(list(set(''.join(words))))\n",
    "stoi = {s:i+1 for i,s in enumerate(chars)}\n",
    "stoi['.'] = 0\n",
    "itos = {i:s for s,i in stoi.items()}\n",
    "vocab_size = len(itos)\n",
    "print(itos)"
   ]
  },
  {
   "cell_type": "code",
   "execution_count": 5,
   "metadata": {},
   "outputs": [
    {
     "name": "stdout",
     "output_type": "stream",
     "text": [
      "torch.Size([182625, 3]) torch.Size([182625])\n",
      "torch.Size([22655, 3]) torch.Size([22655])\n",
      "torch.Size([22866, 3]) torch.Size([22866])\n"
     ]
    }
   ],
   "source": [
    "# build the dataset\n",
    "block_size = 3 # context length: how many characters do we take to predict the next one?\n",
    "\n",
    "def build_dataset(words):\n",
    "    X, Y = [], []\n",
    "    \n",
    "    for w in words:\n",
    "        context = [0] * block_size\n",
    "        for ch in w + '.':\n",
    "            ix = stoi[ch]\n",
    "            X.append(context)\n",
    "            Y.append(ix)\n",
    "            context = context[1:] + [ix] # crop and append\n",
    "    \n",
    "    X = torch.tensor(X)\n",
    "    Y = torch.tensor(Y)\n",
    "    print(X.shape, Y.shape)\n",
    "    return X, Y\n",
    "\n",
    "import random\n",
    "random.seed(42)\n",
    "random.shuffle(words)\n",
    "n1 = int(0.8*len(words))\n",
    "n2 = int(0.9*len(words))\n",
    "\n",
    "Xtr, Ytr = build_dataset(words[:n1])    # 80%\n",
    "Xdev, Ydev = build_dataset(words[n1:n2])  # 10%\n",
    "Xte, Yte = build_dataset(words[n2:])    # 10%"
   ]
  },
  {
   "cell_type": "code",
   "execution_count": 6,
   "metadata": {},
   "outputs": [],
   "source": [
    "n_embd = 10\n",
    "n_hidden = 200\n",
    "\n",
    "g = torch.Generator().manual_seed(2147483647)\n",
    "C = torch.randn((vocab_size, n_embd), generator=g)\n",
    "W1 = torch.randn((n_embd * block_size, n_hidden), generator=g)\n",
    "b1 = torch.randn(n_hidden, generator=g)\n",
    "W2 = torch.randn((n_hidden, vocab_size), generator=g) * 0.1\n",
    "b2 = torch.randn(vocab_size, generator=g) * 0\n",
    "\n",
    "parameters = [C, W1, b1, W2, b2]\n",
    "for p in parameters:\n",
    "    p.requires_grad = True"
   ]
  },
  {
   "cell_type": "code",
   "execution_count": 7,
   "metadata": {},
   "outputs": [
    {
     "name": "stdout",
     "output_type": "stream",
     "text": [
      "      0/ 200000: 4.2326\n"
     ]
    }
   ],
   "source": [
    "# same optimization as last time\n",
    "max_steps = 200000\n",
    "batch_size = 32\n",
    "context = torch.zeros((batch_size, block_size), dtype=torch.long)\n",
    "\n",
    "lossi = []\n",
    "\n",
    "for i in range(max_steps):\n",
    "\n",
    "    # minibatch construct\n",
    "    ix = torch.randint(0, Xtr.shape[0], (batch_size,), generator=g)\n",
    "    Xb, Yb = Xtr[ix], Ytr[ix] # batch X,Y\n",
    "\n",
    "    # forward pass\n",
    "    emb = C[Xb] # embed the characters into vectors\n",
    "    embcat = emb.view(emb.shape[0], -1) # concatenate the vectors\n",
    "    hpreact = embcat @ W1 + b1 # hidden layer pre-activation\n",
    "    h = torch.tanh(hpreact) # apply activation function\n",
    "    logits = h @ W2 + b2 # output layer\n",
    "    loss = F.cross_entropy(logits, Yb) # loss function\n",
    "    \n",
    "    # backward pass\n",
    "    for p in parameters:\n",
    "        p.grad = None\n",
    "    loss.backward()\n",
    "\n",
    "    # update\n",
    "    lr = 0.1 if i < 100000 else 0.01 # step learning rate decay\n",
    "    for p in parameters:\n",
    "        p.data += -lr * p.grad\n",
    "\n",
    "    # track stats\n",
    "    if i % 10000 == 0: # print every once in a while\n",
    "        print(f'{i:7d}/{max_steps:7d}: {loss.item():.4f}')\n",
    "    lossi.append(loss.log10().item())\n",
    "    break;"
   ]
  },
  {
   "cell_type": "code",
   "execution_count": 8,
   "metadata": {},
   "outputs": [
    {
     "data": {
      "text/plain": [
       "torch.Size([32, 200])"
      ]
     },
     "execution_count": 8,
     "metadata": {},
     "output_type": "execute_result"
    }
   ],
   "source": [
    "h.shape"
   ]
  },
  {
   "cell_type": "code",
   "execution_count": 9,
   "metadata": {},
   "outputs": [
    {
     "data": {
      "text/plain": [
       "<matplotlib.image.AxesImage at 0x7f955e2bd710>"
      ]
     },
     "execution_count": 9,
     "metadata": {},
     "output_type": "execute_result"
    },
    {
     "data": {
      "image/png": "[encoded data removed]",
      "text/plain": [
       "<Figure size 2000x1000 with 1 Axes>"
      ]
     },
     "metadata": {},
     "output_type": "display_data"
    }
   ],
   "source": [
    "plt.figure(figsize=(20,10))\n",
    "plt.imshow(h.abs() > 0.99, cmap='gray', interpolation='nearest')"
   ]
  },
  {
   "cell_type": "code",
   "execution_count": 10,
   "metadata": {},
   "outputs": [
    {
     "data": {
      "text/plain": [
       "tensor([[-2.4900e-01,  3.5232e+00, -1.2675e+00,  5.4072e-01,  1.6622e+00,\n",
       "         -1.1708e+00, -1.3984e-01,  1.2415e-01,  9.2099e-01,  1.1347e+00,\n",
       "          1.3624e+00, -9.2524e-01,  4.4376e-01, -2.4594e+00, -9.7140e-01,\n",
       "          1.2474e-01, -9.5716e-01, -1.3763e+00, -2.3287e+00, -1.3744e-01,\n",
       "          2.4522e+00,  1.6165e+00,  1.6649e+00, -1.0944e+00, -2.1544e+00,\n",
       "          7.2546e-01,  1.1413e+00],\n",
       "        [ 1.4268e+00,  3.3675e-01, -7.2940e-01,  1.7382e+00,  1.1025e+00,\n",
       "         -4.3339e-01, -9.0606e-01,  1.1407e+00,  2.1662e+00,  5.2338e-01,\n",
       "          9.3156e-01, -1.3275e+00,  2.9610e-01,  1.0828e-01, -1.7080e+00,\n",
       "          2.0745e+00, -9.2745e-01, -8.1438e-01,  1.9278e+00,  6.7868e-01,\n",
       "          1.3205e+00, -9.6620e-02,  1.7432e-01,  3.6530e-01,  2.2947e+00,\n",
       "         -1.3023e+00,  1.8430e+00],\n",
       "        [-5.8797e-01,  1.2201e+00,  1.3583e+00,  1.5451e+00,  1.8435e+00,\n",
       "          2.9693e-01,  9.7223e-01,  1.9137e+00,  7.5265e-01,  2.6276e+00,\n",
       "          2.2028e+00,  5.6212e-01, -2.4239e-01, -1.7911e-01,  2.4451e+00,\n",
       "          3.2327e+00, -1.9299e+00,  6.2200e-01,  2.4649e+00, -1.4319e+00,\n",
       "         -8.9082e-01,  9.6484e-01,  7.6807e-01, -2.1379e+00,  8.4425e-01,\n",
       "          1.3863e+00,  1.2409e-01],\n",
       "        [-4.8813e-01,  1.2726e+00,  5.0578e-01,  1.8297e+00, -1.3285e+00,\n",
       "         -9.4923e-01, -3.3503e-01,  1.1538e+00,  4.8650e-01, -9.6059e-01,\n",
       "          8.2664e-01,  1.5841e+00, -4.8803e-01, -6.5794e-01, -1.6363e+00,\n",
       "          1.2996e+00, -4.7079e-01, -2.0789e+00, -3.7550e-01, -2.9172e-01,\n",
       "         -6.0803e-01,  2.8967e-02, -8.7731e-01, -1.6786e+00, -1.3494e+00,\n",
       "          4.3220e-01,  9.3907e-01],\n",
       "        [-5.9914e-01,  6.8759e-01,  8.6050e-01,  4.7288e-02, -5.5478e-02,\n",
       "         -2.0513e+00,  2.4564e+00,  1.5746e+00,  1.3773e+00,  2.1382e+00,\n",
       "          3.3724e-01,  1.2433e+00, -7.9204e-01, -4.3455e-02, -1.5333e+00,\n",
       "          1.6785e+00, -1.0160e+00,  8.7934e-01,  3.3447e+00, -3.9549e-01,\n",
       "          5.5840e-02, -1.1433e-01, -1.0519e+00, -3.1345e-04,  5.5048e-01,\n",
       "         -8.2083e-02,  5.8170e-01],\n",
       "        [-3.1363e+00,  1.3830e+00,  1.8355e-01, -4.4516e-01,  3.1701e-01,\n",
       "          1.1458e+00,  7.3751e-01,  1.3017e+00, -1.3487e+00, -6.5054e-01,\n",
       "          3.4791e-01,  3.9650e+00, -4.7661e-02, -2.5844e+00,  1.5677e+00,\n",
       "          6.7101e-01,  1.0791e+00, -6.7746e-01, -1.1550e+00, -1.3884e+00,\n",
       "          8.4410e-01,  2.2920e+00, -6.8940e-01, -4.6633e-01,  2.4769e+00,\n",
       "          8.0402e-01,  2.6801e-01],\n",
       "        [-7.4341e-01, -2.0495e-01, -4.8846e-01,  3.9365e-01,  7.3470e-01,\n",
       "         -4.4395e-01,  1.6360e-01, -1.4407e+00, -3.0660e-01, -2.2486e+00,\n",
       "         -2.6018e+00,  3.2090e+00,  8.5413e-01, -4.0067e-01,  1.4154e+00,\n",
       "         -9.4187e-01, -7.5875e-01,  6.0483e-01,  7.0261e-01, -1.7053e+00,\n",
       "         -4.8770e-01, -5.2154e-01, -5.9514e-01,  5.3226e-01,  9.5211e-02,\n",
       "          6.2308e-01,  2.3048e+00],\n",
       "        [ 1.2275e+00, -8.9038e-01,  4.3348e-02,  6.2475e-01, -8.8092e-01,\n",
       "         -1.5609e+00, -2.0409e+00, -1.3013e-01,  1.1493e+00, -1.1868e+00,\n",
       "         -3.0069e-01,  2.7045e+00,  1.4378e-01, -1.9893e+00,  1.5357e-01,\n",
       "          7.1211e-01, -1.2959e+00,  1.3527e+00,  1.6626e+00, -8.7559e-01,\n",
       "         -7.3961e-01, -7.6345e-02, -3.0552e-01, -4.3182e-01, -1.0276e+00,\n",
       "         -4.3658e-01,  9.9224e-02],\n",
       "        [-3.1821e-01, -3.3372e-01,  3.8958e-01,  2.2163e+00,  4.7185e-01,\n",
       "         -1.2716e+00,  1.0649e+00,  1.1003e+00, -2.1403e-01,  1.0578e-01,\n",
       "          3.8171e-01,  2.7476e-01,  2.1820e+00, -2.1870e-01,  8.2968e-02,\n",
       "          1.3945e+00, -7.0304e-01, -1.3113e+00,  5.1890e-01,  1.4934e+00,\n",
       "          7.0170e-01,  1.1828e+00,  1.9359e+00,  6.9710e-01, -8.1636e-01,\n",
       "         -1.7987e-01, -5.5351e-01],\n",
       "        [-1.9013e+00,  2.1468e+00, -1.6021e+00, -1.1755e+00,  2.5044e+00,\n",
       "          1.6582e+00, -8.1229e-01,  1.3250e+00, -7.0507e-01,  6.2883e-01,\n",
       "          2.4087e+00,  1.2926e-01,  1.1778e+00, -9.5575e-01,  3.3809e-01,\n",
       "          1.3744e+00, -4.2084e-01,  1.5323e-01,  6.8529e-01, -9.2180e-01,\n",
       "          6.1031e-01,  1.8751e+00,  1.2926e+00, -1.8686e+00,  2.7992e+00,\n",
       "          3.8921e-01,  1.2349e+00],\n",
       "        [ 9.3586e-01,  3.0244e-01, -2.6059e+00,  1.2456e+00, -7.6994e-01,\n",
       "          1.9129e+00, -2.6824e+00,  2.7694e-01,  2.6889e+00, -5.8946e-01,\n",
       "         -1.7053e+00,  1.1486e+00,  3.3843e-01, -2.7544e+00,  3.0863e+00,\n",
       "         -9.0830e-01, -1.5569e+00, -5.9793e-02, -1.5649e+00, -3.2936e-01,\n",
       "         -1.8628e+00,  2.0614e+00,  6.1887e-01, -4.2782e-01,  6.6962e-02,\n",
       "          1.4932e+00, -3.0707e+00],\n",
       "        [ 8.7699e-01, -5.5660e-01, -4.2838e-01,  1.2977e+00,  8.8416e-01,\n",
       "         -7.1741e-01, -1.3928e-01,  5.7409e-01,  1.2999e+00,  5.9531e-01,\n",
       "         -1.4274e-01, -2.6188e-01, -7.0690e-01, -1.3056e+00, -1.5100e-01,\n",
       "          1.6764e+00, -7.2497e-01, -5.1553e-01,  1.4706e-02,  1.0935e+00,\n",
       "         -1.0633e+00, -9.2263e-01, -2.6325e+00, -2.6116e+00,  2.6281e+00,\n",
       "         -7.1631e-01, -3.2955e-01],\n",
       "        [-5.0901e-01, -1.5617e+00,  4.9755e-01, -1.9044e+00,  3.0216e+00,\n",
       "          3.1578e+00,  1.7544e+00,  1.7569e+00,  1.5532e-01,  2.5501e+00,\n",
       "          1.4440e+00,  4.0436e-01,  1.3004e-01, -1.0133e+00, -6.4672e-01,\n",
       "          1.5343e+00, -6.7767e-01, -2.2790e-01,  1.8692e+00,  4.4264e-01,\n",
       "         -1.2000e-01,  7.2655e-01, -2.3861e-01, -2.3886e-01, -8.8616e-01,\n",
       "          1.3516e+00,  4.6844e-02],\n",
       "        [-2.3995e-02, -1.5979e+00, -1.2554e+00,  3.2896e-01,  5.9164e-01,\n",
       "          2.6319e+00, -1.8651e+00, -1.0662e+00,  1.7473e+00, -1.0223e+00,\n",
       "         -1.1931e+00,  1.1122e+00,  8.3661e-01, -1.7474e+00,  2.0221e-01,\n",
       "         -1.2519e+00, -1.1242e+00,  2.0015e-01, -2.4162e+00, -8.3341e-01,\n",
       "         -6.1857e-02,  4.9583e-01,  1.0472e+00,  1.2790e+00,  7.0687e-01,\n",
       "         -3.9801e-01, -1.9303e+00],\n",
       "        [-9.4866e-01, -2.1702e-01, -1.6661e+00,  3.8471e-01,  1.3834e+00,\n",
       "         -5.6344e-01, -1.6376e+00,  2.3441e+00, -1.4333e+00, -3.5181e-01,\n",
       "         -1.1003e+00,  8.5217e-01, -6.8936e-01, -2.7138e-01, -1.0603e+00,\n",
       "          1.9719e+00,  3.3931e-01, -5.4172e-01,  1.8894e+00,  1.3062e+00,\n",
       "         -3.8113e-01, -4.8644e-01,  2.3588e-01, -6.9343e-02,  3.1802e+00,\n",
       "         -3.3555e-01,  7.6799e-01],\n",
       "        [ 2.2599e-01, -6.0970e-01, -9.2364e-02, -1.3457e+00,  1.3720e+00,\n",
       "         -3.4740e-01, -9.8039e-03,  1.3663e-01, -2.5271e-02,  3.1716e+00,\n",
       "          1.3256e+00, -1.8801e+00,  7.1288e-01, -8.1595e-01, -6.0951e-01,\n",
       "          2.4374e+00, -1.4780e+00,  4.2390e-01,  1.3792e+00,  1.7514e+00,\n",
       "         -2.1579e+00,  1.4649e-01, -3.7389e-01,  2.1610e-01,  2.0906e+00,\n",
       "         -1.0246e-01,  2.7960e+00],\n",
       "        [-1.7199e+00, -4.7356e-01, -7.1746e-01,  1.3721e+00,  1.6670e+00,\n",
       "          5.7360e-02, -9.3185e-01,  1.4338e+00, -2.5804e-01,  7.6966e-01,\n",
       "          1.8122e+00,  5.3369e-01,  9.8968e-01, -1.3253e+00,  1.0559e+00,\n",
       "          8.1357e-01, -7.8718e-01, -1.2215e+00, -2.4963e-01,  1.0799e+00,\n",
       "         -3.4737e-01,  3.4583e-01,  1.3425e+00,  5.2689e-01,  2.0814e+00,\n",
       "          8.9842e-02,  7.8250e-01],\n",
       "        [ 5.2486e-01, -4.4467e-01,  6.8361e-01, -3.9363e-01,  3.1954e+00,\n",
       "          3.0496e+00,  2.4677e+00,  5.1501e-01, -1.5213e-02,  1.2879e+00,\n",
       "          1.6800e+00,  2.7902e-01,  1.7729e+00, -1.3668e+00,  2.6333e-01,\n",
       "          2.2685e+00, -1.5028e+00,  1.2139e+00,  2.7282e-01,  6.8237e-01,\n",
       "          1.3536e+00,  4.9045e-01,  6.7116e-01, -8.9343e-01, -6.7012e-01,\n",
       "         -2.2329e-01, -1.5718e+00],\n",
       "        [-1.2338e-01, -8.8754e-01,  5.7498e-01, -2.2727e+00,  2.1087e+00,\n",
       "          3.2016e+00, -8.0231e-01, -1.7556e+00, -1.9860e+00,  3.9490e-01,\n",
       "         -2.1579e-01,  7.2621e-01,  2.7502e+00,  1.0876e+00, -2.4705e-01,\n",
       "          4.8760e-01,  3.5177e-01,  1.1462e+00,  2.1730e-01, -1.0555e+00,\n",
       "          9.1995e-01, -4.4830e-01,  3.0168e-01,  2.8984e+00,  1.3849e-01,\n",
       "          2.5740e+00, -2.7462e-01],\n",
       "        [ 1.2275e+00, -8.9038e-01,  4.3348e-02,  6.2475e-01, -8.8092e-01,\n",
       "         -1.5609e+00, -2.0409e+00, -1.3013e-01,  1.1493e+00, -1.1868e+00,\n",
       "         -3.0069e-01,  2.7045e+00,  1.4378e-01, -1.9893e+00,  1.5357e-01,\n",
       "          7.1211e-01, -1.2959e+00,  1.3527e+00,  1.6626e+00, -8.7559e-01,\n",
       "         -7.3961e-01, -7.6345e-02, -3.0552e-01, -4.3182e-01, -1.0276e+00,\n",
       "         -4.3658e-01,  9.9224e-02],\n",
       "        [-3.5220e-01,  6.7267e-01,  1.4282e+00, -1.8847e+00,  1.8206e+00,\n",
       "          1.3394e+00,  1.4670e+00, -6.3181e-01, -1.9786e+00,  2.4243e+00,\n",
       "          3.2204e+00, -2.3304e-01,  1.9703e+00, -1.1479e+00,  8.1486e-02,\n",
       "          1.1612e+00, -6.2045e-01,  1.8102e+00,  2.2151e+00, -1.2759e-01,\n",
       "          2.0434e+00,  1.8055e+00, -8.9348e-01,  5.4143e-01, -1.1390e+00,\n",
       "          5.5458e-01,  1.3131e+00],\n",
       "        [ 2.1159e-01, -1.2311e+00, -8.3404e-01,  1.5922e+00, -2.0373e-01,\n",
       "         -3.1929e+00, -6.4635e-01, -3.1313e-01,  7.8480e-01,  1.4978e+00,\n",
       "         -2.5185e+00,  2.8228e-01, -1.0847e+00, -1.5931e+00, -4.5958e-01,\n",
       "          4.8603e-01,  3.8989e-02, -4.1455e-01,  3.9820e-01, -4.0838e-01,\n",
       "          1.3487e+00,  1.0751e+00, -2.1097e-01,  2.8019e-01, -1.5147e+00,\n",
       "         -5.0125e-01, -4.0451e-01],\n",
       "        [ 1.6409e+00,  4.2146e-01, -4.8697e-01,  2.5719e+00,  1.5610e-01,\n",
       "          6.5737e-01, -4.7796e-01, -3.3637e-01,  1.3245e+00,  8.1849e-01,\n",
       "          1.0320e+00, -2.9529e-02,  5.2454e-01, -1.0068e+00, -6.4180e-01,\n",
       "         -1.0653e-01, -8.8789e-01, -5.7758e-01,  1.3374e+00,  1.9113e+00,\n",
       "          6.2003e-01, -1.6251e+00,  1.1575e+00,  8.4717e-01,  7.3478e-01,\n",
       "          1.5343e-01, -2.7374e-01],\n",
       "        [ 6.7883e-01, -1.0046e+00, -6.2778e-01, -2.6976e-01,  2.6226e+00,\n",
       "         -6.4919e-01, -8.3871e-01,  4.1193e-01,  1.0620e+00,  1.6192e+00,\n",
       "          3.2147e-01, -2.9456e+00, -1.6859e-01,  6.4201e-01, -1.7728e+00,\n",
       "          8.5609e-01, -9.6235e-01, -5.6667e-01,  1.8349e+00,  9.2635e-01,\n",
       "         -6.4833e-01, -5.9994e-01,  8.8740e-01,  5.7048e-01,  9.4569e-02,\n",
       "          1.2069e-01,  1.7798e+00],\n",
       "        [-8.6892e-02,  3.1478e-01, -2.7744e-01,  1.9171e+00,  9.2841e-01,\n",
       "          6.9947e-01,  1.8168e-01,  1.6345e+00, -4.4236e-01,  2.7484e-01,\n",
       "         -7.9026e-01,  3.2615e+00,  1.3466e+00, -2.0130e+00,  1.8145e-01,\n",
       "          2.6267e+00, -1.5726e-01, -9.5878e-01, -9.7581e-02, -4.5942e-02,\n",
       "          3.8428e-01, -2.6609e-01, -4.2546e-01, -9.7169e-01,  3.0377e+00,\n",
       "         -7.7065e-01, -1.3402e-01],\n",
       "        [ 5.7542e-01,  4.4094e-01,  1.2923e+00,  1.6399e+00, -2.2160e+00,\n",
       "         -1.7146e+00, -7.0755e-01,  1.3228e-01, -1.9330e-01,  2.8700e-01,\n",
       "         -2.2541e-01,  1.2584e+00, -3.1966e-01, -8.2095e-01, -1.1986e+00,\n",
       "          2.2399e+00, -5.3936e-02,  6.9934e-01,  5.6742e-01, -1.6674e+00,\n",
       "         -9.2268e-01, -1.9686e-01, -4.9437e-01, -9.3536e-01, -1.2690e+00,\n",
       "          6.3329e-01,  1.8442e-01],\n",
       "        [ 3.8976e-01,  1.2386e-01, -1.5442e+00,  9.7642e-01,  1.8024e+00,\n",
       "         -5.6425e-01, -1.1463e+00,  2.1392e+00, -3.5820e-01,  1.0214e+00,\n",
       "          8.6364e-02, -4.0939e-01,  2.9785e-02,  7.4285e-01, -1.1230e+00,\n",
       "          1.7108e+00,  1.4849e-01, -2.2442e+00,  8.1757e-01,  2.4454e+00,\n",
       "         -1.1804e+00,  1.8237e-01,  4.6049e-02,  8.0346e-02,  2.2028e+00,\n",
       "         -4.6187e-02, -2.9876e-01],\n",
       "        [ 9.7633e-01,  2.4412e-01,  1.2206e+00,  1.5307e+00, -2.0650e+00,\n",
       "         -2.7818e+00,  3.8451e-01,  1.0057e+00,  4.1191e-01, -3.6274e-01,\n",
       "         -2.8769e-02,  2.2666e+00,  1.0232e+00, -5.7932e-01, -3.7885e-01,\n",
       "          1.0135e+00, -2.0625e+00,  1.0427e+00,  1.8409e+00, -3.9933e-01,\n",
       "         -1.2737e+00,  8.4486e-01, -5.1082e-01,  1.0798e+00,  7.7748e-01,\n",
       "          4.6039e-01, -1.0934e+00],\n",
       "        [ 1.8168e+00,  1.2549e+00,  4.3829e-01,  2.4466e+00, -1.2602e+00,\n",
       "         -2.0731e+00,  1.7859e-01,  4.1442e-01,  2.2469e+00,  2.3714e-01,\n",
       "         -2.6024e+00,  1.5812e+00,  9.3905e-01, -9.0531e-01,  1.3710e-02,\n",
       "         -6.9226e-01, -1.7315e+00, -2.1349e-01,  3.4532e-01, -3.0366e-01,\n",
       "         -6.6845e-01, -1.3660e+00, -1.3248e+00, -6.3595e-02,  2.0584e+00,\n",
       "         -6.9446e-01,  2.1045e-01],\n",
       "        [ 1.2275e+00, -8.9038e-01,  4.3348e-02,  6.2475e-01, -8.8092e-01,\n",
       "         -1.5609e+00, -2.0409e+00, -1.3013e-01,  1.1493e+00, -1.1868e+00,\n",
       "         -3.0069e-01,  2.7045e+00,  1.4378e-01, -1.9893e+00,  1.5357e-01,\n",
       "          7.1211e-01, -1.2959e+00,  1.3527e+00,  1.6626e+00, -8.7559e-01,\n",
       "         -7.3961e-01, -7.6345e-02, -3.0552e-01, -4.3182e-01, -1.0276e+00,\n",
       "         -4.3658e-01,  9.9224e-02],\n",
       "        [ 4.3052e-01, -1.3183e-01, -2.5109e-02,  1.6956e+00, -6.1905e-01,\n",
       "         -2.7842e+00, -8.3320e-01,  1.5585e-01,  1.7321e+00, -3.1689e-01,\n",
       "         -4.1266e-01,  1.7937e+00, -7.0666e-01, -1.8861e+00,  4.4564e-01,\n",
       "          1.1561e+00, -1.2267e+00, -4.9705e-01,  1.0447e+00, -5.3184e-01,\n",
       "         -6.3955e-01,  1.5726e+00, -1.4029e+00, -9.9337e-01, -5.8556e-02,\n",
       "         -3.3951e-01, -1.3846e+00],\n",
       "        [ 1.2275e+00, -8.9038e-01,  4.3348e-02,  6.2475e-01, -8.8092e-01,\n",
       "         -1.5609e+00, -2.0409e+00, -1.3013e-01,  1.1493e+00, -1.1868e+00,\n",
       "         -3.0069e-01,  2.7045e+00,  1.4378e-01, -1.9893e+00,  1.5357e-01,\n",
       "          7.1211e-01, -1.2959e+00,  1.3527e+00,  1.6626e+00, -8.7559e-01,\n",
       "         -7.3961e-01, -7.6345e-02, -3.0552e-01, -4.3182e-01, -1.0276e+00,\n",
       "         -4.3658e-01,  9.9224e-02]], grad_fn=<AddBackward0>)"
      ]
     },
     "execution_count": 10,
     "metadata": {},
     "output_type": "execute_result"
    }
   ],
   "source": [
    "logits"
   ]
  },
  {
   "cell_type": "code",
   "execution_count": 11,
   "metadata": {},
   "outputs": [
    {
     "data": {
      "text/plain": [
       "(tensor([3.1741e-04, 9.4620e-01, 6.3754e-03, 4.7108e-02]), tensor(5.0553))"
      ]
     },
     "execution_count": 11,
     "metadata": {},
     "output_type": "execute_result"
    }
   ],
   "source": [
    "# 4 dimmensional example of the issue\n",
    "logits = torch.tensor([-3.0,5.0,0.0,2.0])\n",
    "probs = torch.softmax(logits, dim=0)\n",
    "loss = -probs[2].log()\n",
    "\n",
    "probs, loss"
   ]
  },
  {
   "cell_type": "code",
   "execution_count": 12,
   "metadata": {},
   "outputs": [
    {
     "data": {
      "text/plain": [
       "[<matplotlib.lines.Line2D at 0x7f955cf90e10>]"
      ]
     },
     "execution_count": 12,
     "metadata": {},
     "output_type": "execute_result"
    },
    {
     "data": {
      "image/png": "[encoded data removed]",
      "text/plain": [
       "<Figure size 640x480 with 1 Axes>"
      ]
     },
     "metadata": {},
     "output_type": "display_data"
    }
   ],
   "source": [
    "plt.plot(lossi)"
   ]
  },
  {
   "cell_type": "code",
   "execution_count": 13,
   "metadata": {
    "scrolled": true
   },
   "outputs": [
    {
     "name": "stdout",
     "output_type": "stream",
     "text": [
      "train 3.8703994750976562\n",
      "val 3.8682360649108887\n"
     ]
    }
   ],
   "source": [
    "@torch.no_grad() # this decorator disables gradient tracking\n",
    "def split_loss(split):\n",
    "    x,y = {\n",
    "        'train': (Xtr, Ytr),\n",
    "        'val': (Xdev, Ydev),\n",
    "        'test': (Xte, Yte),\n",
    "    }[split]\n",
    "    emb = C[x] # (N, block_size, n_embd)\n",
    "    embcat = emb.view(emb.shape[0], -1) # concat into (N, block_size * n_embd)\n",
    "    h = torch.tanh(embcat @ W1 + b1) # (N, n_hidden)\n",
    "    logits = h @ W2 + b2 # (N, vocab_size)\n",
    "    loss = F.cross_entropy(logits, y)\n",
    "    print(split, loss.item())\n",
    "\n",
    "split_loss('train')\n",
    "split_loss('val')"
   ]
  },
  {
   "cell_type": "code",
   "execution_count": 14,
   "metadata": {},
   "outputs": [
    {
     "name": "stdout",
     "output_type": "stream",
     "text": [
      "rrhagimyazzdyecvndhlholwteshwjkhjdrhjgehdzekdrelhijehgzoew.\n",
      ".\n",
      "khcxyhowneslkdyzcvhvqramnjshggvrgxhgwyesrrjciwsesjrqxncpvcfkurzmthd.\n",
      "ruyjruizekgylgejrhovkyhxzhvzycadylisqhpubjkcvquhczycryvwuvjkoyndpovdirfhyxoyoehgzptisjrfcuyhwvkhmnjrqmidrqixfvwvshxwvkhh.\n",
      "ortysfszthpdgseshsyritgftxvbszivku.\n",
      "ouhirkecavmvhsxavothd.\n",
      "qgcdekhgkgtnovwutjriwbddihdvyhlqyajaygpoympokgdy.\n",
      "qramzizkjgvonhezojyfnblbtyodirygvoghvtbos.\n",
      "zobhyknomwcxthlcjkhu.\n",
      "jrqwaaowvwigdnszvkucoecem.\n",
      "ccdfivsnveiyhtewmmszguhwzwtxrjckyplojecoyhxtgguyrdghy.\n",
      "p.\n",
      "kconksfuhcckhgjy.\n",
      "kj.\n",
      "hscpvcycifshowszshs.\n",
      "qholmyyaadlszadgfwexjcgyhjkkhrzoluikzy.\n",
      "qucbrsicjwuy.\n",
      "q.\n",
      "rnlouhsjkfxnotxseefajeeqrzkzyvkuhozyqlmduodyvkuhbgdidhovtyjdfvcgdi.\n",
      "bw.\n"
     ]
    }
   ],
   "source": [
    "# sample from the model\n",
    "g = torch.Generator().manual_seed(2147483647 + 10)\n",
    "\n",
    "for _ in range(20):\n",
    "    out = []\n",
    "    context = [0] * block_size # initialize with all ...\n",
    "    while True:\n",
    "        # forward pass the neural net\n",
    "        emb = C[context]  # (batch_size, block_size, n_embd)\n",
    "        h = torch.tanh(emb.view(1, -1) @ W1 + b1)\n",
    "        logits = h @ W2 + b2\n",
    "        probs = F.softmax(logits, dim=1)\n",
    "        # sample from the distribution\n",
    "        ix = torch.multinomial(probs, num_samples=1, generator=g).item()\n",
    "        # shift the context window and track the samples\n",
    "        context = context[1:] + [ix]\n",
    "        out.append(ix)\n",
    "        # if we sample the special '.' token, break\n",
    "        if ix == 0:\n",
    "            break\n",
    "    \n",
    "    print(''.join(itos[i] for i in out)) # decode and print the generated word"
   ]
  }
 ],
 "metadata": {
  "kernelspec": {
   "display_name": "Python 3 (ipykernel)",
   "language": "python",
   "name": "python3"
  },
  "language_info": {
   "codemirror_mode": {
    "name": "ipython",
    "version": 3
   },
   "file_extension": ".py",
   "mimetype": "text/x-python",
   "name": "python",
   "nbconvert_exporter": "python",
   "pygments_lexer": "ipython3",
   "version": "3.11.8"
  }
 },
 "nbformat": 4,
 "nbformat_minor": 4
}
