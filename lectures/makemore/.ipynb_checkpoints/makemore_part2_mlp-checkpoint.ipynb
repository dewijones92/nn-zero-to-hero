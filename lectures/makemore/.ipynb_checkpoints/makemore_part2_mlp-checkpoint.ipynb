{
 "cells": [
  {
   "cell_type": "code",
   "execution_count": 1,
   "metadata": {},
   "outputs": [],
   "source": [
    "import torch\n",
    "import torch.nn.functional as F\n",
    "import matplotlib.pyplot as plt # for making figures\n",
    "%matplotlib inline"
   ]
  },
  {
   "cell_type": "code",
   "execution_count": 2,
   "metadata": {},
   "outputs": [
    {
     "data": {
      "text/plain": [
       "['emma', 'olivia', 'ava', 'isabella', 'sophia', 'charlotte', 'mia', 'amelia']"
      ]
     },
     "execution_count": 2,
     "metadata": {},
     "output_type": "execute_result"
    }
   ],
   "source": [
    "# read in all the words\n",
    "words = open('names.txt', 'r').read().splitlines()\n",
    "words[:8]"
   ]
  },
  {
   "cell_type": "code",
   "execution_count": 3,
   "metadata": {},
   "outputs": [
    {
     "data": {
      "text/plain": [
       "32033"
      ]
     },
     "execution_count": 3,
     "metadata": {},
     "output_type": "execute_result"
    }
   ],
   "source": [
    "len(words)"
   ]
  },
  {
   "cell_type": "code",
   "execution_count": 4,
   "metadata": {},
   "outputs": [
    {
     "name": "stdout",
     "output_type": "stream",
     "text": [
      "{1: 'a', 2: 'b', 3: 'c', 4: 'd', 5: 'e', 6: 'f', 7: 'g', 8: 'h', 9: 'i', 10: 'j', 11: 'k', 12: 'l', 13: 'm', 14: 'n', 15: 'o', 16: 'p', 17: 'q', 18: 'r', 19: 's', 20: 't', 21: 'u', 22: 'v', 23: 'w', 24: 'x', 25: 'y', 26: 'z', 0: '.'}\n"
     ]
    }
   ],
   "source": [
    "# build the vocabulary of characters and mappings to/from integers\n",
    "chars = sorted(list(set(''.join(words))))\n",
    "stoi = {s:i+1 for i,s in enumerate(chars)}\n",
    "stoi['.'] = 0\n",
    "itos = {i:s for s,i in stoi.items()}\n",
    "vocab_size = len(itos)\n",
    "print(itos)"
   ]
  },
  {
   "cell_type": "code",
   "execution_count": 5,
   "metadata": {},
   "outputs": [
    {
     "name": "stdout",
     "output_type": "stream",
     "text": [
      "torch.Size([182625, 3]) torch.Size([182625])\n",
      "torch.Size([22655, 3]) torch.Size([22655])\n",
      "torch.Size([22866, 3]) torch.Size([22866])\n"
     ]
    }
   ],
   "source": [
    "# build the dataset\n",
    "block_size = 3 # context length: how many characters do we take to predict the next one?\n",
    "\n",
    "def build_dataset(words):\n",
    "    X, Y = [], []\n",
    "    \n",
    "    for w in words:\n",
    "        context = [0] * block_size\n",
    "        for ch in w + '.':\n",
    "            ix = stoi[ch]\n",
    "            X.append(context)\n",
    "            Y.append(ix)\n",
    "            context = context[1:] + [ix] # crop and append\n",
    "    \n",
    "    X = torch.tensor(X)\n",
    "    Y = torch.tensor(Y)\n",
    "    print(X.shape, Y.shape)\n",
    "    return X, Y\n",
    "\n",
    "import random\n",
    "random.seed(42)\n",
    "random.shuffle(words)\n",
    "n1 = int(0.8*len(words))\n",
    "n2 = int(0.9*len(words))\n",
    "\n",
    "Xtr, Ytr = build_dataset(words[:n1])    # 80%\n",
    "Xdev, Ydev = build_dataset(words[n1:n2])  # 10%\n",
    "Xte, Yte = build_dataset(words[n2:])    # 10%"
   ]
  },
  {
   "cell_type": "code",
   "execution_count": 6,
   "metadata": {},
   "outputs": [
    {
     "name": "stdout",
     "output_type": "stream",
     "text": [
      "12297\n"
     ]
    }
   ],
   "source": [
    "n_embd = 10\n",
    "n_hidden = 200\n",
    "\n",
    "g = torch.Generator().manual_seed(2147483647)\n",
    "C = torch.randn((vocab_size, n_embd), generator=g)\n",
    "W1 = torch.randn((n_embd * block_size, n_hidden), generator=g) * (5/3) / ((n_embd*block_size)**0.5)\n",
    "b1 = torch.randn(n_hidden, generator=g) * 0.01\n",
    "W2 = torch.randn((n_hidden, vocab_size), generator=g) * 0.01\n",
    "b2 = torch.randn(vocab_size, generator=g) * 0\n",
    "\n",
    "bngain = torch.ones((1, n_hidden))\n",
    "bnbias = torch.ones((1, n_hidden))\n",
    "bnmean_running = torch.zeros((1, n_hidden))\n",
    "bnstd_running = torch.ones((1, n_hidden))\n",
    "\n",
    "parameters = [C, W1, b1, W2, b2, bngain, bnbias]\n",
    "print(sum(p.nelement() for p in parameters))\n",
    "for p in parameters:\n",
    "    p.requires_grad = True"
   ]
  },
  {
   "cell_type": "code",
   "execution_count": 7,
   "metadata": {},
   "outputs": [
    {
     "data": {
      "text/plain": [
       "tensor(0.1954)"
      ]
     },
     "execution_count": 7,
     "metadata": {},
     "output_type": "execute_result"
    }
   ],
   "source": [
    "(torch.randn(1000)*0.2).std()"
   ]
  },
  {
   "cell_type": "code",
   "execution_count": 8,
   "metadata": {},
   "outputs": [
    {
     "data": {
      "text/plain": [
       "0.3042903097250923"
      ]
     },
     "execution_count": 8,
     "metadata": {},
     "output_type": "execute_result"
    }
   ],
   "source": [
    "(5/3) / (30**0.5)"
   ]
  },
  {
   "cell_type": "code",
   "execution_count": 9,
   "metadata": {},
   "outputs": [
    {
     "name": "stdout",
     "output_type": "stream",
     "text": [
      "tensor(0.0032) tensor(1.0058)\n",
      "tensor(-0.0023) tensor(0.9659)\n"
     ]
    },
    {
     "data": {
      "image/png": "[encoded data removed]",
      "text/plain": [
       "<Figure size 2000x500 with 2 Axes>"
      ]
     },
     "metadata": {},
     "output_type": "display_data"
    }
   ],
   "source": [
    "x = torch.randn(1000, 10)\n",
    "w = torch.randn(10, 200) / 10**0.5\n",
    "y = x @ w\n",
    "print(x.mean(), x.std())\n",
    "print(y.mean(), y.std())\n",
    "plt.figure(figsize=(20,5))\n",
    "plt.subplot(121)\n",
    "plt.hist(x.view(-1).tolist(), 50, density=True);\n",
    "plt.subplot(122)\n",
    "plt.hist(y.view(-1).tolist(), 50, density=True);"
   ]
  },
  {
   "cell_type": "code",
   "execution_count": 10,
   "metadata": {},
   "outputs": [
    {
     "name": "stdout",
     "output_type": "stream",
     "text": [
      "      0/ 200000: 3.3401\n",
      "  10000/ 200000: 2.2846\n",
      "  20000/ 200000: 2.3284\n",
      "  30000/ 200000: 2.5253\n",
      "  40000/ 200000: 1.9592\n",
      "  50000/ 200000: 2.5090\n",
      "  60000/ 200000: 2.3124\n",
      "  70000/ 200000: 2.0885\n",
      "  80000/ 200000: 2.3997\n",
      "  90000/ 200000: 2.1687\n",
      " 100000/ 200000: 1.9234\n",
      " 110000/ 200000: 2.3111\n",
      " 120000/ 200000: 1.9855\n",
      " 130000/ 200000: 2.5203\n",
      " 140000/ 200000: 2.3358\n",
      " 150000/ 200000: 2.2478\n",
      " 160000/ 200000: 2.0123\n",
      " 170000/ 200000: 1.8866\n",
      " 180000/ 200000: 1.9666\n",
      " 190000/ 200000: 1.8665\n"
     ]
    }
   ],
   "source": [
    "# same optimization as last time\n",
    "max_steps = 200000\n",
    "batch_size = 32\n",
    "context = torch.zeros((batch_size, block_size), dtype=torch.long)\n",
    "\n",
    "lossi = []\n",
    "\n",
    "for i in range(max_steps):\n",
    "\n",
    "    # minibatch construct\n",
    "    ix = torch.randint(0, Xtr.shape[0], (batch_size,), generator=g)\n",
    "    Xb, Yb = Xtr[ix], Ytr[ix] # batch X,Y\n",
    "\n",
    "    # forward pass\n",
    "    emb = C[Xb] # embed the characters into vectors\n",
    "    embcat = emb.view(emb.shape[0], -1) # concatenate the vectors\n",
    "    hpreact = embcat @ W1 + b1 # hidden layer pre-activation\n",
    "    bnmeani = hpreact.mean(0, keepdim=True)\n",
    "    bnstdi = hpreact.std(0,keepdim=True)\n",
    "    hpreact = bngain * (hpreact - bnmeani)/bnstdi + bnbias\n",
    "\n",
    "    with torch.no_grad():\n",
    "        bnmean_running = 0.999 * bnmean_running + 0.001 * bnmeani\n",
    "        bnstd_running = 0.999 * bnstd_running + 0.001 * bnstdi\n",
    "    \n",
    "    h = torch.tanh(hpreact) # apply activation function\n",
    "    logits = h @ W2 + b2 # output layer\n",
    "    loss = F.cross_entropy(logits, Yb) # loss function\n",
    "    \n",
    "    # backward pass\n",
    "    for p in parameters:\n",
    "        p.grad = None\n",
    "    loss.backward()\n",
    "\n",
    "    # update\n",
    "    lr = 0.1 if i < 100000 else 0.01 # step learning rate decay\n",
    "    for p in parameters:\n",
    "        p.data += -lr * p.grad\n",
    "\n",
    "    # track stats\n",
    "    if i % 10000 == 0: # print every once in a while\n",
    "        print(f'{i:7d}/{max_steps:7d}: {loss.item():.4f}')\n",
    "    lossi.append(loss.log10().item())\n",
    "   # break;"
   ]
  },
  {
   "cell_type": "code",
   "execution_count": 11,
   "metadata": {},
   "outputs": [
    {
     "data": {
      "text/plain": [
       "torch.Size([32, 200])"
      ]
     },
     "execution_count": 11,
     "metadata": {},
     "output_type": "execute_result"
    }
   ],
   "source": [
    "h.shape"
   ]
  },
  {
   "cell_type": "code",
   "execution_count": 12,
   "metadata": {},
   "outputs": [
    {
     "data": {
      "text/plain": [
       "<matplotlib.image.AxesImage at 0x7f6b4fd8ef50>"
      ]
     },
     "execution_count": 12,
     "metadata": {},
     "output_type": "execute_result"
    },
    {
     "data": {
      "image/png": "[encoded data removed]",
      "text/plain": [
       "<Figure size 2000x1000 with 1 Axes>"
      ]
     },
     "metadata": {},
     "output_type": "display_data"
    }
   ],
   "source": [
    "plt.figure(figsize=(20,10))\n",
    "plt.imshow(h.abs() > 0.99, cmap='gray', interpolation='nearest')"
   ]
  },
  {
   "cell_type": "code",
   "execution_count": 13,
   "metadata": {},
   "outputs": [
    {
     "data": {
      "image/png": "[encoded data removed]",
      "text/plain": [
       "<Figure size 640x480 with 1 Axes>"
      ]
     },
     "metadata": {},
     "output_type": "display_data"
    }
   ],
   "source": [
    "plt.hist(h.view(-1).tolist(), 50);"
   ]
  },
  {
   "cell_type": "code",
   "execution_count": 14,
   "metadata": {},
   "outputs": [
    {
     "data": {
      "image/png": "[encoded data removed]",
      "text/plain": [
       "<Figure size 640x480 with 1 Axes>"
      ]
     },
     "metadata": {},
     "output_type": "display_data"
    }
   ],
   "source": [
    "    plt.hist(hpreact.view(-1).tolist(), 50);"
   ]
  },
  {
   "cell_type": "code",
   "execution_count": 15,
   "metadata": {},
   "outputs": [
    {
     "data": {
      "text/plain": [
       "(tensor([3.1741e-04, 9.4620e-01, 6.3754e-03, 4.7108e-02]), tensor(5.0553))"
      ]
     },
     "execution_count": 15,
     "metadata": {},
     "output_type": "execute_result"
    }
   ],
   "source": [
    "# 4 dimmensional example of the issue\n",
    "logits = torch.tensor([-3.0,5.0,0.0,2.0])\n",
    "probs = torch.softmax(logits, dim=0)\n",
    "loss = -probs[2].log()\n",
    "\n",
    "probs, loss"
   ]
  },
  {
   "cell_type": "code",
   "execution_count": 16,
   "metadata": {
    "scrolled": true
   },
   "outputs": [
    {
     "data": {
      "text/plain": [
       "[<matplotlib.lines.Line2D at 0x7f6b58c5c050>]"
      ]
     },
     "execution_count": 16,
     "metadata": {},
     "output_type": "execute_result"
    },
    {
     "data": {
      "image/png": "[encoded data removed]",
      "text/plain": [
       "<Figure size 640x480 with 1 Axes>"
      ]
     },
     "metadata": {},
     "output_type": "display_data"
    }
   ],
   "source": [
    "plt.plot(lossi)"
   ]
  },
  {
   "cell_type": "code",
   "execution_count": 25,
   "metadata": {},
   "outputs": [],
   "source": [
    "# calibrate the batch norm at the end of the training\n",
    "\n",
    "with torch.no_grad():\n",
    "    emb = C[Xtr]\n",
    "    embcat = emb.view(emb.shape[0], -1)\n",
    "    hpreact = embcat @ W1 + b1\n",
    "    #measure the mean/std over the entire training set\n",
    "    bnmean = hpreact.mean(0, keepdim=True)\n",
    "    bnstd = hpreact.std(0,keepdim=True)"
   ]
  },
  {
   "cell_type": "code",
   "execution_count": 26,
   "metadata": {},
   "outputs": [
    {
     "data": {
      "text/plain": [
       "tensor([[-2.2803e-03,  2.3462e-04, -1.7935e+00,  3.9476e-01, -1.2088e+00,\n",
       "          8.8940e-01,  1.9944e+00,  1.7648e+00,  7.8242e-01,  2.2918e+00,\n",
       "         -2.2332e+00, -2.2610e+00, -8.9850e-01, -7.7208e-01, -5.9051e-01,\n",
       "          1.5853e+00,  3.0195e-01, -2.0090e+00, -1.1314e+00,  1.3202e+00,\n",
       "          9.6734e-01, -1.0198e+00,  9.5862e-01,  4.1244e-01,  9.6789e-01,\n",
       "          7.1671e-01,  6.9090e-01, -1.8534e+00,  3.5036e-01,  1.3999e+00,\n",
       "         -3.8203e-01, -1.9591e+00, -1.2362e+00, -2.0288e-01, -1.2511e+00,\n",
       "         -1.5688e+00, -2.2653e+00, -6.1519e-01,  1.4280e-01, -3.1524e-01,\n",
       "          2.2843e-01, -4.5146e-01, -1.0894e+00, -2.0974e-01,  1.6557e+00,\n",
       "          2.8456e-01, -5.9374e-01, -1.3964e+00,  1.1942e+00,  1.6368e+00,\n",
       "          6.3896e-01,  1.1443e+00,  2.1573e+00, -2.0216e-01,  1.2154e+00,\n",
       "         -1.7685e+00, -8.3350e-01,  8.9618e-01,  7.5469e-01, -6.1894e-01,\n",
       "         -1.6283e+00, -2.6782e-01, -9.2840e-01, -5.9752e-01,  7.1645e-02,\n",
       "         -4.8201e-01,  9.6430e-02,  7.8613e-01, -5.1655e-01,  9.9880e-02,\n",
       "         -1.4505e+00,  1.3453e-01,  1.2809e+00, -1.6628e+00, -1.9939e+00,\n",
       "          2.2386e-01,  1.3699e+00,  3.6065e-01,  8.7941e-01, -1.2738e-01,\n",
       "          7.3755e-01,  1.5728e+00,  7.8582e-01, -7.8564e-01,  7.9477e-01,\n",
       "         -9.9800e-01, -5.9836e-01, -8.4084e-01, -4.0574e-02, -9.8716e-01,\n",
       "         -6.5088e-02,  1.1282e+00, -8.8994e-01, -5.2195e-01, -5.4117e-01,\n",
       "         -4.0762e-01, -6.2652e-01, -1.2610e+00,  1.4379e+00, -1.8329e+00,\n",
       "         -3.6696e-01,  1.0405e+00, -1.2780e+00,  7.4726e-01,  9.2890e-01,\n",
       "         -8.6666e-01, -1.3221e+00, -2.7346e-01, -1.1658e-01, -3.1531e-01,\n",
       "          3.3099e-01,  5.1286e-01,  1.3895e-01,  1.5219e+00,  1.6247e+00,\n",
       "          8.8365e-01,  6.7888e-01, -6.0549e-01, -4.9037e-02, -1.0838e+00,\n",
       "         -3.4648e-01, -7.2452e-01,  3.5336e-01,  8.0780e-02, -1.0467e+00,\n",
       "         -1.6162e+00, -5.2624e-01, -8.8943e-01, -1.8885e+00, -3.5824e-01,\n",
       "          1.5000e+00,  6.6812e-02, -9.7699e-03,  1.4812e+00,  3.1425e-01,\n",
       "         -1.4004e+00, -3.7637e-01,  3.7507e-01,  3.7027e-01, -4.3635e-03,\n",
       "          1.3479e+00,  4.5451e-01,  1.2619e+00,  8.1513e-01,  1.0571e+00,\n",
       "          1.3411e-01,  1.4470e+00, -2.2290e+00,  1.1693e+00, -3.3892e-01,\n",
       "         -1.9583e+00,  5.4966e-01,  7.9686e-01,  1.4845e+00,  2.6240e-01,\n",
       "         -7.6284e-01,  1.5756e+00, -9.0973e-01, -1.9294e+00,  6.5513e-01,\n",
       "          9.0739e-01, -3.7840e-01, -6.8418e-01, -2.6392e+00, -1.0995e-01,\n",
       "          4.5860e-03,  6.8104e-02, -1.5407e+00, -2.2362e+00, -6.4591e-02,\n",
       "          8.1427e-01, -1.4289e+00, -1.3537e+00,  9.3371e-03,  2.6107e-01,\n",
       "         -7.6726e-01,  1.0931e+00, -9.1731e-01,  1.3887e+00, -1.5621e+00,\n",
       "          2.7095e+00,  1.1698e+00,  5.2371e-01, -2.8691e-01, -6.8336e-01,\n",
       "          2.3005e-01,  2.2825e-01, -7.6858e-01,  1.6053e+00,  2.7811e-01,\n",
       "         -5.5013e-01,  1.6747e+00, -9.9122e-01,  4.9281e-01, -1.0443e-01,\n",
       "          6.2689e-01,  1.8044e+00,  5.7168e-02,  6.2360e-01,  1.5568e-01]])"
      ]
     },
     "execution_count": 26,
     "metadata": {},
     "output_type": "execute_result"
    }
   ],
   "source": [
    "bnmean"
   ]
  },
  {
   "cell_type": "code",
   "execution_count": 27,
   "metadata": {},
   "outputs": [
    {
     "data": {
      "text/plain": [
       "tensor([[-0.0106,  0.0051, -1.7950,  0.3983, -1.2086,  0.8867,  1.9885,  1.7726,\n",
       "          0.7852,  2.2817, -2.2472, -2.2770, -0.8994, -0.7761, -0.5984,  1.5882,\n",
       "          0.3097, -2.0188, -1.1455,  1.3044,  0.9805, -1.0174,  0.9548,  0.3997,\n",
       "          0.9677,  0.7004,  0.6979, -1.8285,  0.3420,  1.4164, -0.3968, -1.9723,\n",
       "         -1.2323, -0.2067, -1.2460, -1.5697, -2.2601, -0.6233,  0.1475, -0.3052,\n",
       "          0.2202, -0.4743, -1.0761, -0.2108,  1.6492,  0.2913, -0.5941, -1.3929,\n",
       "          1.1759,  1.6405,  0.6306,  1.1356,  2.1523, -0.1924,  1.2190, -1.7649,\n",
       "         -0.8393,  0.8891,  0.7512, -0.6209, -1.6456, -0.2709, -0.9295, -0.6145,\n",
       "          0.0752, -0.4869,  0.0866,  0.7850, -0.5070,  0.1044, -1.4640,  0.1415,\n",
       "          1.2750, -1.6325, -1.9909,  0.2061,  1.3672,  0.3661,  0.8720, -0.1324,\n",
       "          0.7314,  1.5713,  0.7762, -0.7764,  0.8055, -0.9921, -0.5986, -0.8452,\n",
       "         -0.0551, -0.9836, -0.0677,  1.1211, -0.8933, -0.5204, -0.5329, -0.4097,\n",
       "         -0.6326, -1.2545,  1.4507, -1.8248, -0.3736,  1.0424, -1.2874,  0.7372,\n",
       "          0.9357, -0.8726, -1.3167, -0.2686, -0.1077, -0.3244,  0.3236,  0.5189,\n",
       "          0.1205,  1.5177,  1.6218,  0.8837,  0.6624, -0.6089, -0.0549, -1.0850,\n",
       "         -0.3508, -0.7218,  0.3571,  0.0909, -1.0465, -1.6207, -0.5499, -0.8798,\n",
       "         -1.8824, -0.3506,  1.4956,  0.0620, -0.0048,  1.4855,  0.3175, -1.3828,\n",
       "         -0.3828,  0.3587,  0.3696,  0.0120,  1.3528,  0.4564,  1.2645,  0.8219,\n",
       "          1.0483,  0.1333,  1.4607, -2.2321,  1.1697, -0.3434, -1.9566,  0.5513,\n",
       "          0.7935,  1.4907,  0.2722, -0.7682,  1.5688, -0.9092, -1.9184,  0.6426,\n",
       "          0.9011, -0.3833, -0.6914, -2.6382, -0.1172, -0.0042,  0.0657, -1.5533,\n",
       "         -2.2361, -0.0678,  0.7974, -1.4289, -1.3514,  0.0148,  0.2490, -0.7504,\n",
       "          1.0902, -0.9224,  1.3810, -1.5599,  2.7016,  1.1750,  0.5211, -0.2814,\n",
       "         -0.6846,  0.2297,  0.2286, -0.7856,  1.6259,  0.2652, -0.5650,  1.6765,\n",
       "         -0.9990,  0.4765, -0.0926,  0.6292,  1.8132,  0.0672,  0.6183,  0.1504]])"
      ]
     },
     "execution_count": 27,
     "metadata": {},
     "output_type": "execute_result"
    }
   ],
   "source": [
    "bnmean_running"
   ]
  },
  {
   "cell_type": "code",
   "execution_count": 30,
   "metadata": {
    "scrolled": true
   },
   "outputs": [
    {
     "name": "stdout",
     "output_type": "stream",
     "text": [
      "train 2.0667059421539307\n",
      "val 2.112140655517578\n"
     ]
    }
   ],
   "source": [
    "@torch.no_grad() # this decorator disables gradient tracking\n",
    "def split_loss(split):\n",
    "    x,y = {\n",
    "        'train': (Xtr, Ytr),\n",
    "        'val': (Xdev, Ydev),\n",
    "        'test': (Xte, Yte),\n",
    "    }[split]\n",
    "    emb = C[x] # (N, block_size, n_embd)\n",
    "    embcat = emb.view(emb.shape[0], -1) # concat into (N, block_size * n_embd)\n",
    "    hpreact = embcat @ W1 + b1\n",
    "\n",
    "    hpreact = bngain * (hpreact - bnmean_running)/bnstd_running+bnbias\n",
    "    h = torch.tanh(hpreact)\n",
    "    logits = h @ W2 + b2 # (N, vocab_size)\n",
    "    loss = F.cross_entropy(logits, y)\n",
    "    print(split, loss.item())\n",
    "\n",
    "split_loss('train')\n",
    "split_loss('val')"
   ]
  },
  {
   "cell_type": "code",
   "execution_count": 19,
   "metadata": {},
   "outputs": [
    {
     "name": "stdout",
     "output_type": "stream",
     "text": [
      "mrraggunazzizbrendhlyam.\n",
      "quvurnghjgrben.\n",
      "qurrexstlingstpprenlokepplqtwfanthlyziqhmkamfiyshubirgshvrixstviktrenzlqwagterconnazkydd.\n",
      "quylduf.\n",
      "qhevrugustyfforunhzangagyansufazajacvorten.\n",
      "qubuniv.\n",
      "vosteffrddin.\n",
      "kxorbenjxpsingstctuzwubhmurrighstquxffevordwallaniktrbetz.\n",
      "quigstla.\n",
      "quitlf.\n",
      "xvalfigurghendrkefxrdor.\n",
      "xavonghkmaqzekhnkathp.\n",
      "judwit.\n",
      "bdoghzvordqucjaskpapspitlc.\n",
      "pptr.\n",
      "zizzagvontet.\n",
      "jhanplinklnnrxinggsttwordz.\n",
      "bryknazjaxthn.\n",
      "jandajtewan.\n",
      "cqubpsultzinghburuxcangchrnichmptermokswordylfordckupportej.\n"
     ]
    }
   ],
   "source": [
    "# sample from the model\n",
    "g = torch.Generator().manual_seed(2147483647 + 10)\n",
    "\n",
    "for _ in range(20):\n",
    "    out = []\n",
    "    context = [0] * block_size # initialize with all ...\n",
    "    while True:\n",
    "        # forward pass the neural net\n",
    "        emb = C[context]  # (batch_size, block_size, n_embd)\n",
    "        h = torch.tanh(emb.view(1, -1) @ W1 + b1)\n",
    "        logits = h @ W2 + b2\n",
    "        probs = F.softmax(logits, dim=1)\n",
    "        # sample from the distribution\n",
    "        ix = torch.multinomial(probs, num_samples=1, generator=g).item()\n",
    "        # shift the context window and track the samples\n",
    "        context = context[1:] + [ix]\n",
    "        out.append(ix)\n",
    "        # if we sample the special '.' token, break\n",
    "        if ix == 0:\n",
    "            break\n",
    "    \n",
    "    print(''.join(itos[i] for i in out)) # decode and print the generated word"
   ]
  },
  {
   "cell_type": "code",
   "execution_count": null,
   "metadata": {},
   "outputs": [],
   "source": []
  },
  {
   "cell_type": "code",
   "execution_count": null,
   "metadata": {},
   "outputs": [],
   "source": []
  }
 ],
 "metadata": {
  "kernelspec": {
   "display_name": "Python 3 (ipykernel)",
   "language": "python",
   "name": "python3"
  },
  "language_info": {
   "codemirror_mode": {
    "name": "ipython",
    "version": 3
   },
   "file_extension": ".py",
   "mimetype": "text/x-python",
   "name": "python",
   "nbconvert_exporter": "python",
   "pygments_lexer": "ipython3",
   "version": "3.11.8"
  }
 },
 "nbformat": 4,
 "nbformat_minor": 4
}
